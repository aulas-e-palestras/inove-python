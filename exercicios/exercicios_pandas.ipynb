{
 "cells": [
  {
   "cell_type": "code",
   "execution_count": 189,
   "id": "f4cdf9c8-74a4-4f53-b5c3-e32a23ff530c",
   "metadata": {},
   "outputs": [],
   "source": [
    "import pandas as pd\n",
    "import matplotlib.pyplot as plt"
   ]
  },
  {
   "cell_type": "code",
   "execution_count": 190,
   "id": "2f0e9efb-dfbf-445f-b3e3-952f75620b78",
   "metadata": {},
   "outputs": [],
   "source": [
    "def plot_heatmaps(vandalism_data, assault_data):\n",
    "    \n",
    "    f, ax = plt.subplots(2, 1, figsize=(16,9))\n",
    "    \n",
    "    heatmaps = [vandalism_data, assault_data]\n",
    "    names = ['Vandalism','Assault']\n",
    "    \n",
    "    for idx,heatmap in enumerate(heatmaps):\n",
    "        ax[idx].imshow(heatmap, cmap='Reds')\n",
    "        ax[idx].set_title(names[idx])\n",
    "        ax[idx].invert_yaxis()\n",
    "        \n",
    "        for dia in range(7):\n",
    "            for hora in range(24):\n",
    "                text = ax[idx].text(hora, dia, heatmap.loc[dia, hora], ha='center', va='center', color='w' if heatmap.loc[dia, hora] > 30 else 'silver')\n",
    "        \n",
    "    plt.show()"
   ]
  },
  {
   "cell_type": "markdown",
   "id": "857a14a5-016c-4a77-beb7-d1866f9a1c02",
   "metadata": {},
   "source": [
    "# Lista de Exercícios - Pandas\n",
    "___\n",
    "\n",
    "Para responder as perguntas a seguir utilize o dataset 'crimes_sf.csv' na pasta 'dados'. Utilize as células de código para criar o código referente a sua resposta (fique a vontade para adicionar mais células, se necessário). O código acima deve ser rodado também deve ser rodado para execução correta do exercício."
   ]
  },
  {
   "cell_type": "markdown",
   "id": "4d068430-7c32-4b19-bd8c-a07d2ba4cc0f",
   "metadata": {},
   "source": [
    "1. Considerando que a coluna 'IncidntNum' descreve uma numeração única do incidente responda: o dataset possui incidentes iguais, ou seja, linhas repetidas? Em caso positivo as remova do dataset."
   ]
  },
  {
   "cell_type": "code",
   "execution_count": null,
   "id": "8e9eb21a-caf8-4455-804c-faeb9a4e3b27",
   "metadata": {},
   "outputs": [],
   "source": []
  },
  {
   "cell_type": "markdown",
   "id": "bc1010d7-b29c-4878-92b4-984efd4b573a",
   "metadata": {},
   "source": [
    "2. Use o pandas para criar um dataset onde cada linha é um dia da semana (0 = Segunda-feira e 6 = Domingo) e cada coluna é uma hora, preencha esse dataset com a contagem de ocorrências com a categoria \"VANDALISM\"."
   ]
  },
  {
   "cell_type": "code",
   "execution_count": null,
   "id": "d2124905-276c-4871-8ebf-1a0b14e863ab",
   "metadata": {},
   "outputs": [],
   "source": []
  },
  {
   "cell_type": "markdown",
   "id": "56fd15d4-b424-4631-a2a7-bc98c84b7f0f",
   "metadata": {},
   "source": [
    "3. Use a mesma lógica da questão 1, mas com a categoria \"ASSAULT\"."
   ]
  },
  {
   "cell_type": "code",
   "execution_count": null,
   "id": "7b759861-924d-4222-b66c-4412aeb2e31b",
   "metadata": {},
   "outputs": [],
   "source": []
  },
  {
   "cell_type": "markdown",
   "id": "75e8f349-227e-4d77-9646-8e3402efa1ff",
   "metadata": {},
   "source": [
    "4. Passe ambos os datasets para a função plot_heatmaps."
   ]
  },
  {
   "cell_type": "code",
   "execution_count": null,
   "id": "c101551f-6d1d-49a0-9954-f8f0fca48252",
   "metadata": {},
   "outputs": [],
   "source": []
  },
  {
   "cell_type": "markdown",
   "id": "16c7c6a6-86ca-456f-8020-354dca980573",
   "metadata": {},
   "source": [
    "5. A categoria de crime mais cometido aos finais de semana durante o mês de outubro foi \"VEHICLE THEFT\". Verdeiro ou Falso? Se falso, descreva qual categoria é a mais frequente."
   ]
  },
  {
   "cell_type": "code",
   "execution_count": null,
   "id": "a613c66e-9e8e-4610-89d3-c70a60bc2e22",
   "metadata": {},
   "outputs": [],
   "source": []
  },
  {
   "cell_type": "markdown",
   "id": "e74016dc-14a8-4528-9400-7887eae5ea53",
   "metadata": {},
   "source": [
    "6. Mais de 80% dos crimes cometidos em 2016 não tiveram resolução (Resolution==None). Verdadeiro ou Falso? Se falso, descreva qual o resolução mais frequente."
   ]
  },
  {
   "cell_type": "code",
   "execution_count": null,
   "id": "85d404a5-eb6b-4ab9-837e-30c880adf2a4",
   "metadata": {},
   "outputs": [],
   "source": []
  },
  {
   "cell_type": "markdown",
   "id": "056323f8-58ae-488a-9847-5b5dd315847b",
   "metadata": {},
   "source": [
    "7. Qual o distrito (PdDistrict) com a maior quantidade absoluta de incidentes resolvidos (Resolution != None)?"
   ]
  },
  {
   "cell_type": "code",
   "execution_count": null,
   "id": "5496a378-9859-46ed-ade2-6126b937e5d8",
   "metadata": {},
   "outputs": [],
   "source": []
  },
  {
   "cell_type": "markdown",
   "id": "751fe58e-0df6-4209-b7e7-6beb6536ab3f",
   "metadata": {},
   "source": [
    "8. Você é o mais novo cientista de dados da prefeitura de San Franciso. Seu primeiro trabalho é criar um algoritmo que recebe a quantidade de incidentes de 2 dias e prevê a quantidade de incidentes para o 3º usando a média. Crie um dataframe com duas colunas, a primeira com o valor real de indicentes e a segunda com os valores previstos para todo o ano, qual é o RMSE desse algoritmo?"
   ]
  },
  {
   "cell_type": "code",
   "execution_count": null,
   "id": "e3768130-eab4-40af-8343-84c0a3d2a244",
   "metadata": {},
   "outputs": [],
   "source": []
  },
  {
   "cell_type": "markdown",
   "id": "174f459f-dc80-4200-9267-31f1d72e251c",
   "metadata": {},
   "source": [
    "9. Utilize a coluna 'Location' para criar um mapa do crime na cidade de São Francisco. A figura deve conter 4 gráficos, cada gráfico representa um turno do dia (0-6 madrugada, 6-12 manhã, 12-18 tarde, 18-23:59 madrugada), cada gráfico demonstrará a dispersão geografica dos crimes na cidade de São Francisco. Ao final, cada gráfico deve ficar parecido com a figura abaixo.\n",
    "\n",
    "![](../imagens/mapa_sf.png)"
   ]
  }
 ],
 "metadata": {
  "kernelspec": {
   "display_name": "Python 3 (ipykernel)",
   "language": "python",
   "name": "python3"
  },
  "language_info": {
   "codemirror_mode": {
    "name": "ipython",
    "version": 3
   },
   "file_extension": ".py",
   "mimetype": "text/x-python",
   "name": "python",
   "nbconvert_exporter": "python",
   "pygments_lexer": "ipython3",
   "version": "3.8.10"
  }
 },
 "nbformat": 4,
 "nbformat_minor": 5
}
