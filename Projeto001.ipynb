{
 "cells": [
  {
   "cell_type": "markdown",
   "id": "dfed5f3e-0140-404b-a04f-9726f8271c09",
   "metadata": {},
   "source": [
    "![](https://cbic.org.br/wp-content/uploads/2022/02/909fa5d1543363d809512626531cff03.jpeg)"
   ]
  },
  {
   "cell_type": "markdown",
   "id": "d208bef2-570b-475b-acb5-ac5e94478124",
   "metadata": {},
   "source": [
    "# Projeto 001\n",
    "\n",
    "Prof.: Nasser Santiago Boan\n",
    "\n",
    "obs.: A situação descrita no projeto é ficticia e somente para fins educativos, não remete a operação real de nenhuma secretaria, servidor ou ente do MINFRA."
   ]
  },
  {
   "cell_type": "markdown",
   "id": "5705ccfc-b7e2-44b5-94c9-9b7e2aac99db",
   "metadata": {},
   "source": [
    "## Contexto\n",
    "___\n",
    "\n",
    "Você é o mais novo servidor da Secretaria Nacional de Trânsito (SENATRAN). Atualmente existe um esforço interno para medição da quantidade de processos, média de criação de novos processos por mês e sazonalidade da demanda de trabalho com o intuito de melhor dimensionar a equipe. Seu primeiro desafio é descobrir quantos processos sob responsabilidade do SENATRAN foram criados desde 1993 (somente os que estão no SEI), entender sazonalidade e tipos mais comuns. O resultado deste trabalho será avaliado pela sua liderança direta e afetará as decisões orçamentárias do próximo ano.\n",
    "\n",
    "## Dados\n",
    "___\n",
    "\n",
    "Os dados para execução do projeto foram disponibilizados sob a política de dados abertos e podem ser encontrados [nesse link](https://dados.infraestrutura.gov.br/dadosabertos/SEI/Processos/). A função <code>get_data</code> foi criada para download dos dados (esse processo pode demorar alguns minutos, de acordo com a taxa de transferência da sua conexão).\n",
    "\n",
    "## Métricas\n",
    "___\n",
    "\n",
    "Esse é um projeto de exploração das bases e servirá para tomada de decisão do tamanho do time. A métrica que determinará o sucesso do trabalho é a produtividade do time após a execução do redimensionamento, também podem ser consideradas as métricas de tempo médio de andamento dos processos, custo médio para execução de um processo entre outros. Porém, por uma questão de disponibilidade de dados essas métricas não serão calculadas.\n",
    "\n",
    "## Planejamento\n",
    "___\n",
    "\n",
    "O trabalho pode ser dado como feito quando as seguintes perguntas estiverem respondidas:\n",
    "\n",
    "1. Quantos processos sob responsabilidade do SENATRAN foram criados desde 1993?\n",
    "2. Quantos processos sob responsabilidade do SENATRAN foram criados nos últimos 2 anos? Esse quantidade representa quanto do total?\n",
    "3. Qual a média de criação de processos por mês sob responsabilidade do SENATRAN para cada ano onde existiu pelo menos 1 processo?\n",
    "4. Em qual época do ano existe a maior criação de processos sob resposabilidade do SENATRAN?\n",
    "\n",
    "Para esse projeto será considerado 'sob responsabilidade do SENATRAN' aquele processo que tiver a string 'SENATRAN' ou 'Senatran' em sua descrição.\n",
    "\n",
    "## Código\n",
    "___"
   ]
  },
  {
   "cell_type": "markdown",
   "id": "40dac3eb-b81c-4b4b-bc0c-42318a3abb78",
   "metadata": {},
   "source": [
    "### Importações"
   ]
  },
  {
   "cell_type": "code",
   "execution_count": 138,
   "id": "7504480a-ba33-4c61-95e8-11c783b32bed",
   "metadata": {},
   "outputs": [],
   "source": [
    "import pandas as pd\n",
    "import os\n",
    "from glob import glob\n",
    "import requests as r"
   ]
  },
  {
   "cell_type": "markdown",
   "id": "3bcf700b-2e52-4c78-974e-dd74ca52dd2e",
   "metadata": {},
   "source": [
    "### Baixando e abrindo os dados"
   ]
  },
  {
   "cell_type": "code",
   "execution_count": 139,
   "id": "1fc757f5-f0e4-4c83-97c5-c8b9ff6d81d5",
   "metadata": {},
   "outputs": [],
   "source": [
    "## a função faz o download dos dados caso já não existam na pasta 'dados/'\n",
    "\n",
    "def get_data():\n",
    "    if 'dados/processos.csv' not in glob('dados/*.csv'):\n",
    "        \n",
    "        dados = r.get('https://dados.infraestrutura.gov.br/dadosabertos/SEI/Processos/processos.csv').content\n",
    "        \n",
    "        with open('dados/processos.csv','wb') as file:\n",
    "            file.write(dados)\n",
    "    else:\n",
    "        print(\"Os dados já foram anteriormente baixados e estão na pasta 'dados/'.\")"
   ]
  },
  {
   "cell_type": "code",
   "execution_count": 140,
   "id": "50443e0e-fb1d-41df-babf-3611599852ec",
   "metadata": {},
   "outputs": [
    {
     "name": "stdout",
     "output_type": "stream",
     "text": [
      "Os dados já foram anteriormente baixados e estão na pasta 'dados/'.\n"
     ]
    }
   ],
   "source": [
    "get_data()"
   ]
  },
  {
   "cell_type": "code",
   "execution_count": 141,
   "id": "34450ccf-9abe-4436-8dc1-1b3f0be87106",
   "metadata": {},
   "outputs": [],
   "source": [
    "## abrindo os dados\n",
    "\n",
    "df = pd.read_csv('dados/processos123.csv',sep=',',encoding='latin-1')"
   ]
  },
  {
   "cell_type": "markdown",
   "id": "044b255f-d697-473f-97ec-a69f34849794",
   "metadata": {},
   "source": [
    "### Inspecionando os dados"
   ]
  },
  {
   "cell_type": "code",
   "execution_count": 142,
   "id": "a0477499-7893-4999-8378-5672f0f8378b",
   "metadata": {},
   "outputs": [
    {
     "data": {
      "text/html": [
       "<div>\n",
       "<style scoped>\n",
       "    .dataframe tbody tr th:only-of-type {\n",
       "        vertical-align: middle;\n",
       "    }\n",
       "\n",
       "    .dataframe tbody tr th {\n",
       "        vertical-align: top;\n",
       "    }\n",
       "\n",
       "    .dataframe thead th {\n",
       "        text-align: right;\n",
       "    }\n",
       "</style>\n",
       "<table border=\"1\" class=\"dataframe\">\n",
       "  <thead>\n",
       "    <tr style=\"text-align: right;\">\n",
       "      <th></th>\n",
       "      <th>id_processo</th>\n",
       "      <th>numero_processo</th>\n",
       "      <th>id_tipo_processo</th>\n",
       "      <th>tipo_processo</th>\n",
       "      <th>data_criacao_processo</th>\n",
       "    </tr>\n",
       "  </thead>\n",
       "  <tbody>\n",
       "    <tr>\n",
       "      <th>0</th>\n",
       "      <td>5463334</td>\n",
       "      <td>35238.001398/1993-66</td>\n",
       "      <td>100000228</td>\n",
       "      <td>Pessoal: Pensão por Morte de Servidor</td>\n",
       "      <td>05/05/1993</td>\n",
       "    </tr>\n",
       "    <tr>\n",
       "      <th>1</th>\n",
       "      <td>603412</td>\n",
       "      <td>50000.004633/1993-47</td>\n",
       "      <td>100000228</td>\n",
       "      <td>Pessoal: Pensão por Morte de Servidor</td>\n",
       "      <td>06/05/1993</td>\n",
       "    </tr>\n",
       "    <tr>\n",
       "      <th>2</th>\n",
       "      <td>296943</td>\n",
       "      <td>50000.004716/1993-72</td>\n",
       "      <td>100000228</td>\n",
       "      <td>Pessoal: Pensão por Morte de Servidor</td>\n",
       "      <td>07/05/1993</td>\n",
       "    </tr>\n",
       "    <tr>\n",
       "      <th>3</th>\n",
       "      <td>1170920</td>\n",
       "      <td>10380.003879/1993-87</td>\n",
       "      <td>100000228</td>\n",
       "      <td>Pessoal: Pensão por Morte de Servidor</td>\n",
       "      <td>07/05/1993</td>\n",
       "    </tr>\n",
       "    <tr>\n",
       "      <th>4</th>\n",
       "      <td>1671908</td>\n",
       "      <td>50000.004681/1993-81</td>\n",
       "      <td>100000121</td>\n",
       "      <td>Pessoal: Aposentadoria - Pensão Temporária</td>\n",
       "      <td>07/05/1993</td>\n",
       "    </tr>\n",
       "  </tbody>\n",
       "</table>\n",
       "</div>"
      ],
      "text/plain": [
       "   id_processo       numero_processo  id_tipo_processo  \\\n",
       "0      5463334  35238.001398/1993-66         100000228   \n",
       "1       603412  50000.004633/1993-47         100000228   \n",
       "2       296943  50000.004716/1993-72         100000228   \n",
       "3      1170920  10380.003879/1993-87         100000228   \n",
       "4      1671908  50000.004681/1993-81         100000121   \n",
       "\n",
       "                                tipo_processo data_criacao_processo  \n",
       "0       Pessoal: Pensão por Morte de Servidor            05/05/1993  \n",
       "1       Pessoal: Pensão por Morte de Servidor            06/05/1993  \n",
       "2       Pessoal: Pensão por Morte de Servidor            07/05/1993  \n",
       "3       Pessoal: Pensão por Morte de Servidor            07/05/1993  \n",
       "4  Pessoal: Aposentadoria - Pensão Temporária            07/05/1993  "
      ]
     },
     "execution_count": 142,
     "metadata": {},
     "output_type": "execute_result"
    }
   ],
   "source": [
    "df.head()"
   ]
  },
  {
   "cell_type": "code",
   "execution_count": 143,
   "id": "ee5b3fbe-4f8e-4c35-ba50-e0af5a31417c",
   "metadata": {},
   "outputs": [
    {
     "data": {
      "text/plain": [
       "(671966, 5)"
      ]
     },
     "execution_count": 143,
     "metadata": {},
     "output_type": "execute_result"
    }
   ],
   "source": [
    "df.shape"
   ]
  },
  {
   "cell_type": "code",
   "execution_count": 144,
   "id": "251ff146-539d-4fcd-9017-a0439fe43e41",
   "metadata": {},
   "outputs": [
    {
     "data": {
      "text/plain": [
       "True"
      ]
     },
     "execution_count": 144,
     "metadata": {},
     "output_type": "execute_result"
    }
   ],
   "source": [
    "df.numero_processo.nunique() == df.shape[0]"
   ]
  },
  {
   "cell_type": "markdown",
   "id": "ead80948-4d80-41aa-86c8-8e995eed402e",
   "metadata": {},
   "source": [
    "O dataset possui exatas 671.966 entradas e cinco colunas e não existem dois processos com o mesmo número."
   ]
  },
  {
   "cell_type": "code",
   "execution_count": 145,
   "id": "a79b196f-2eb9-4c37-9b79-337780102761",
   "metadata": {},
   "outputs": [
    {
     "name": "stdout",
     "output_type": "stream",
     "text": [
      "<class 'pandas.core.frame.DataFrame'>\n",
      "RangeIndex: 671966 entries, 0 to 671965\n",
      "Data columns (total 5 columns):\n",
      " #   Column                 Non-Null Count   Dtype \n",
      "---  ------                 --------------   ----- \n",
      " 0   id_processo            671966 non-null  int64 \n",
      " 1   numero_processo        671966 non-null  object\n",
      " 2   id_tipo_processo       671966 non-null  int64 \n",
      " 3   tipo_processo          671966 non-null  object\n",
      " 4   data_criacao_processo  671966 non-null  object\n",
      "dtypes: int64(2), object(3)\n",
      "memory usage: 25.6+ MB\n"
     ]
    }
   ],
   "source": [
    "df.info()"
   ]
  },
  {
   "cell_type": "markdown",
   "id": "e43f8321-3376-4893-98e9-2ab698c5e552",
   "metadata": {},
   "source": [
    "### Tratando a coluna de data"
   ]
  },
  {
   "cell_type": "code",
   "execution_count": 146,
   "id": "b9aab574-81e4-4f51-a9ce-aaf0e4ad459d",
   "metadata": {},
   "outputs": [],
   "source": [
    "df['data_criacao_processo'] = pd.to_datetime(df.data_criacao_processo,format='%d/%m/%Y')"
   ]
  },
  {
   "cell_type": "code",
   "execution_count": 147,
   "id": "f4b71183-6cd8-40d6-9c5d-785e8f33a4e0",
   "metadata": {},
   "outputs": [
    {
     "name": "stdout",
     "output_type": "stream",
     "text": [
      "<class 'pandas.core.frame.DataFrame'>\n",
      "RangeIndex: 671966 entries, 0 to 671965\n",
      "Data columns (total 5 columns):\n",
      " #   Column                 Non-Null Count   Dtype         \n",
      "---  ------                 --------------   -----         \n",
      " 0   id_processo            671966 non-null  int64         \n",
      " 1   numero_processo        671966 non-null  object        \n",
      " 2   id_tipo_processo       671966 non-null  int64         \n",
      " 3   tipo_processo          671966 non-null  object        \n",
      " 4   data_criacao_processo  671966 non-null  datetime64[ns]\n",
      "dtypes: datetime64[ns](1), int64(2), object(2)\n",
      "memory usage: 25.6+ MB\n"
     ]
    }
   ],
   "source": [
    "df.info()"
   ]
  },
  {
   "cell_type": "markdown",
   "id": "79c0d913-4eaf-4a0d-8cf5-12787a3a1be9",
   "metadata": {},
   "source": [
    "### Analisando os dados\n",
    "\n",
    "1. Quantos processos sob responsabilidade do SENATRAN foram criados desde 1993?\n",
    "___"
   ]
  },
  {
   "cell_type": "code",
   "execution_count": 148,
   "id": "67c99424-6c1c-487b-b334-192a2e15e022",
   "metadata": {},
   "outputs": [
    {
     "data": {
      "text/html": [
       "<div>\n",
       "<style scoped>\n",
       "    .dataframe tbody tr th:only-of-type {\n",
       "        vertical-align: middle;\n",
       "    }\n",
       "\n",
       "    .dataframe tbody tr th {\n",
       "        vertical-align: top;\n",
       "    }\n",
       "\n",
       "    .dataframe thead th {\n",
       "        text-align: right;\n",
       "    }\n",
       "</style>\n",
       "<table border=\"1\" class=\"dataframe\">\n",
       "  <thead>\n",
       "    <tr style=\"text-align: right;\">\n",
       "      <th></th>\n",
       "      <th>id_processo</th>\n",
       "      <th>numero_processo</th>\n",
       "      <th>id_tipo_processo</th>\n",
       "      <th>tipo_processo</th>\n",
       "      <th>data_criacao_processo</th>\n",
       "    </tr>\n",
       "  </thead>\n",
       "  <tbody>\n",
       "    <tr>\n",
       "      <th>589</th>\n",
       "      <td>2001429</td>\n",
       "      <td>80001.014528/2004-27</td>\n",
       "      <td>100000644</td>\n",
       "      <td>Senatran: Análise de Normas do Contran</td>\n",
       "      <td>2004-09-09</td>\n",
       "    </tr>\n",
       "    <tr>\n",
       "      <th>702</th>\n",
       "      <td>1732542</td>\n",
       "      <td>08656.094753/2016-41</td>\n",
       "      <td>100000611</td>\n",
       "      <td>Senatran: Infrações: Recursos de Multa</td>\n",
       "      <td>2016-08-12</td>\n",
       "    </tr>\n",
       "    <tr>\n",
       "      <th>703</th>\n",
       "      <td>1709963</td>\n",
       "      <td>08659.015467/2012-73</td>\n",
       "      <td>100000611</td>\n",
       "      <td>Senatran: Infrações: Recursos de Multa</td>\n",
       "      <td>2012-08-29</td>\n",
       "    </tr>\n",
       "    <tr>\n",
       "      <th>705</th>\n",
       "      <td>1781075</td>\n",
       "      <td>08654.009504/2016-88</td>\n",
       "      <td>100000611</td>\n",
       "      <td>Senatran: Infrações: Recursos de Multa</td>\n",
       "      <td>2016-08-12</td>\n",
       "    </tr>\n",
       "    <tr>\n",
       "      <th>712</th>\n",
       "      <td>2283483</td>\n",
       "      <td>08656.095649/2016-73</td>\n",
       "      <td>100000643</td>\n",
       "      <td>Senatran: Recurso de Multa</td>\n",
       "      <td>2016-08-13</td>\n",
       "    </tr>\n",
       "  </tbody>\n",
       "</table>\n",
       "</div>"
      ],
      "text/plain": [
       "     id_processo       numero_processo  id_tipo_processo  \\\n",
       "589      2001429  80001.014528/2004-27         100000644   \n",
       "702      1732542  08656.094753/2016-41         100000611   \n",
       "703      1709963  08659.015467/2012-73         100000611   \n",
       "705      1781075  08654.009504/2016-88         100000611   \n",
       "712      2283483  08656.095649/2016-73         100000643   \n",
       "\n",
       "                              tipo_processo data_criacao_processo  \n",
       "589  Senatran: Análise de Normas do Contran            2004-09-09  \n",
       "702  Senatran: Infrações: Recursos de Multa            2016-08-12  \n",
       "703  Senatran: Infrações: Recursos de Multa            2012-08-29  \n",
       "705  Senatran: Infrações: Recursos de Multa            2016-08-12  \n",
       "712              Senatran: Recurso de Multa            2016-08-13  "
      ]
     },
     "execution_count": 148,
     "metadata": {},
     "output_type": "execute_result"
    }
   ],
   "source": [
    "dados_senatran = df[(df.tipo_processo.str.contains('SENATRAN')) | (df.tipo_processo.str.contains('Senatran'))].copy()\n",
    "dados_senatran.head()"
   ]
  },
  {
   "cell_type": "code",
   "execution_count": 149,
   "id": "424c7696-63cc-4338-9f72-f3ff0d2c5e05",
   "metadata": {},
   "outputs": [
    {
     "data": {
      "text/plain": [
       "(Timestamp('2001-02-01 00:00:00'), Timestamp('2022-09-30 00:00:00'))"
      ]
     },
     "execution_count": 149,
     "metadata": {},
     "output_type": "execute_result"
    }
   ],
   "source": [
    "dados_senatran.data_criacao_processo.min(),dados_senatran.data_criacao_processo.max()"
   ]
  },
  {
   "cell_type": "code",
   "execution_count": 150,
   "id": "9472006e-84af-4c3b-a676-37de8ab32764",
   "metadata": {},
   "outputs": [
    {
     "name": "stdout",
     "output_type": "stream",
     "text": [
      "Desde 1993 foram criados, exatamente 46704 processos sob responsabilidade do SENATRAN\n"
     ]
    }
   ],
   "source": [
    "qtd_de_processos_total = dados_senatran.numero_processo.count()\n",
    "\n",
    "print(f'Desde 1993 foram criados, exatamente {qtd_de_processos_total} processos sob responsabilidade do SENATRAN')"
   ]
  },
  {
   "cell_type": "markdown",
   "id": "c72e03c4-636d-4f00-840f-116abd3e7e1e",
   "metadata": {},
   "source": [
    "2. Quantos processos sob responsabilidade do SENATRAN foram criados nos últimos 2 anos? Esse quantidade representa quanto do total?\n",
    "___"
   ]
  },
  {
   "cell_type": "code",
   "execution_count": 151,
   "id": "35536c08-0583-45b7-aac4-9373e5f35d94",
   "metadata": {},
   "outputs": [
    {
     "data": {
      "text/plain": [
       "28577"
      ]
     },
     "execution_count": 151,
     "metadata": {},
     "output_type": "execute_result"
    }
   ],
   "source": [
    "qtd_de_processos_2_anos = dados_senatran[dados_senatran.data_criacao_processo >= '2020-01-01'].numero_processo.count()\n",
    "qtd_de_processos_2_anos"
   ]
  },
  {
   "cell_type": "code",
   "execution_count": 152,
   "id": "f5ee0f43-3b8e-4e23-ac0a-a031e437cec5",
   "metadata": {},
   "outputs": [
    {
     "data": {
      "text/plain": [
       "0.6118747858855772"
      ]
     },
     "execution_count": 152,
     "metadata": {},
     "output_type": "execute_result"
    }
   ],
   "source": [
    "porcentagem = qtd_de_processos_2_anos / qtd_de_processos_total\n",
    "porcentagem"
   ]
  },
  {
   "cell_type": "code",
   "execution_count": 153,
   "id": "0266305e-4d4a-473c-98e9-3a3333f61034",
   "metadata": {},
   "outputs": [
    {
     "name": "stdout",
     "output_type": "stream",
     "text": [
      "Desde 2020 o SENATRAN criou 28577 processos, representando 61.19% do total desde sua instituição.\n"
     ]
    }
   ],
   "source": [
    "print(f'Desde 2020 o SENATRAN criou {qtd_de_processos_2_anos} processos, representando {round(porcentagem*100,2)}% do total desde sua instituição.')"
   ]
  },
  {
   "cell_type": "markdown",
   "id": "1de6c858-d88b-4ab1-82f0-045bf46e2a2b",
   "metadata": {},
   "source": [
    "3. Qual a média de criação de processos por mês sob responsabilidade do SENATRAN para cada ano onde existiu pelo menos 1 processo?\n",
    "___"
   ]
  },
  {
   "cell_type": "code",
   "execution_count": 154,
   "id": "04360b19-b591-4143-8f09-85218c57c02a",
   "metadata": {},
   "outputs": [
    {
     "data": {
      "text/html": [
       "<div>\n",
       "<style scoped>\n",
       "    .dataframe tbody tr th:only-of-type {\n",
       "        vertical-align: middle;\n",
       "    }\n",
       "\n",
       "    .dataframe tbody tr th {\n",
       "        vertical-align: top;\n",
       "    }\n",
       "\n",
       "    .dataframe thead th {\n",
       "        text-align: right;\n",
       "    }\n",
       "</style>\n",
       "<table border=\"1\" class=\"dataframe\">\n",
       "  <thead>\n",
       "    <tr style=\"text-align: right;\">\n",
       "      <th></th>\n",
       "      <th>id_processo</th>\n",
       "      <th>numero_processo</th>\n",
       "      <th>id_tipo_processo</th>\n",
       "      <th>tipo_processo</th>\n",
       "      <th>data_criacao_processo</th>\n",
       "    </tr>\n",
       "  </thead>\n",
       "  <tbody>\n",
       "    <tr>\n",
       "      <th>589</th>\n",
       "      <td>2001429</td>\n",
       "      <td>80001.014528/2004-27</td>\n",
       "      <td>100000644</td>\n",
       "      <td>Senatran: Análise de Normas do Contran</td>\n",
       "      <td>2004-09-09</td>\n",
       "    </tr>\n",
       "    <tr>\n",
       "      <th>702</th>\n",
       "      <td>1732542</td>\n",
       "      <td>08656.094753/2016-41</td>\n",
       "      <td>100000611</td>\n",
       "      <td>Senatran: Infrações: Recursos de Multa</td>\n",
       "      <td>2016-08-12</td>\n",
       "    </tr>\n",
       "    <tr>\n",
       "      <th>703</th>\n",
       "      <td>1709963</td>\n",
       "      <td>08659.015467/2012-73</td>\n",
       "      <td>100000611</td>\n",
       "      <td>Senatran: Infrações: Recursos de Multa</td>\n",
       "      <td>2012-08-29</td>\n",
       "    </tr>\n",
       "    <tr>\n",
       "      <th>705</th>\n",
       "      <td>1781075</td>\n",
       "      <td>08654.009504/2016-88</td>\n",
       "      <td>100000611</td>\n",
       "      <td>Senatran: Infrações: Recursos de Multa</td>\n",
       "      <td>2016-08-12</td>\n",
       "    </tr>\n",
       "    <tr>\n",
       "      <th>712</th>\n",
       "      <td>2283483</td>\n",
       "      <td>08656.095649/2016-73</td>\n",
       "      <td>100000643</td>\n",
       "      <td>Senatran: Recurso de Multa</td>\n",
       "      <td>2016-08-13</td>\n",
       "    </tr>\n",
       "  </tbody>\n",
       "</table>\n",
       "</div>"
      ],
      "text/plain": [
       "     id_processo       numero_processo  id_tipo_processo  \\\n",
       "589      2001429  80001.014528/2004-27         100000644   \n",
       "702      1732542  08656.094753/2016-41         100000611   \n",
       "703      1709963  08659.015467/2012-73         100000611   \n",
       "705      1781075  08654.009504/2016-88         100000611   \n",
       "712      2283483  08656.095649/2016-73         100000643   \n",
       "\n",
       "                              tipo_processo data_criacao_processo  \n",
       "589  Senatran: Análise de Normas do Contran            2004-09-09  \n",
       "702  Senatran: Infrações: Recursos de Multa            2016-08-12  \n",
       "703  Senatran: Infrações: Recursos de Multa            2012-08-29  \n",
       "705  Senatran: Infrações: Recursos de Multa            2016-08-12  \n",
       "712              Senatran: Recurso de Multa            2016-08-13  "
      ]
     },
     "execution_count": 154,
     "metadata": {},
     "output_type": "execute_result"
    }
   ],
   "source": [
    "dados_senatran.head()"
   ]
  },
  {
   "cell_type": "code",
   "execution_count": 155,
   "id": "4c06c65a-95a5-46d2-b316-93caeb90ef95",
   "metadata": {},
   "outputs": [
    {
     "data": {
      "text/html": [
       "<div>\n",
       "<style scoped>\n",
       "    .dataframe tbody tr th:only-of-type {\n",
       "        vertical-align: middle;\n",
       "    }\n",
       "\n",
       "    .dataframe tbody tr th {\n",
       "        vertical-align: top;\n",
       "    }\n",
       "\n",
       "    .dataframe thead th {\n",
       "        text-align: right;\n",
       "    }\n",
       "</style>\n",
       "<table border=\"1\" class=\"dataframe\">\n",
       "  <thead>\n",
       "    <tr style=\"text-align: right;\">\n",
       "      <th></th>\n",
       "      <th>id_processo</th>\n",
       "      <th>numero_processo</th>\n",
       "      <th>id_tipo_processo</th>\n",
       "      <th>tipo_processo</th>\n",
       "      <th>data_criacao_processo</th>\n",
       "      <th>ano</th>\n",
       "    </tr>\n",
       "  </thead>\n",
       "  <tbody>\n",
       "    <tr>\n",
       "      <th>589</th>\n",
       "      <td>2001429</td>\n",
       "      <td>80001.014528/2004-27</td>\n",
       "      <td>100000644</td>\n",
       "      <td>Senatran: Análise de Normas do Contran</td>\n",
       "      <td>2004-09-09</td>\n",
       "      <td>2004</td>\n",
       "    </tr>\n",
       "    <tr>\n",
       "      <th>702</th>\n",
       "      <td>1732542</td>\n",
       "      <td>08656.094753/2016-41</td>\n",
       "      <td>100000611</td>\n",
       "      <td>Senatran: Infrações: Recursos de Multa</td>\n",
       "      <td>2016-08-12</td>\n",
       "      <td>2016</td>\n",
       "    </tr>\n",
       "    <tr>\n",
       "      <th>703</th>\n",
       "      <td>1709963</td>\n",
       "      <td>08659.015467/2012-73</td>\n",
       "      <td>100000611</td>\n",
       "      <td>Senatran: Infrações: Recursos de Multa</td>\n",
       "      <td>2012-08-29</td>\n",
       "      <td>2012</td>\n",
       "    </tr>\n",
       "    <tr>\n",
       "      <th>705</th>\n",
       "      <td>1781075</td>\n",
       "      <td>08654.009504/2016-88</td>\n",
       "      <td>100000611</td>\n",
       "      <td>Senatran: Infrações: Recursos de Multa</td>\n",
       "      <td>2016-08-12</td>\n",
       "      <td>2016</td>\n",
       "    </tr>\n",
       "    <tr>\n",
       "      <th>712</th>\n",
       "      <td>2283483</td>\n",
       "      <td>08656.095649/2016-73</td>\n",
       "      <td>100000643</td>\n",
       "      <td>Senatran: Recurso de Multa</td>\n",
       "      <td>2016-08-13</td>\n",
       "      <td>2016</td>\n",
       "    </tr>\n",
       "  </tbody>\n",
       "</table>\n",
       "</div>"
      ],
      "text/plain": [
       "     id_processo       numero_processo  id_tipo_processo  \\\n",
       "589      2001429  80001.014528/2004-27         100000644   \n",
       "702      1732542  08656.094753/2016-41         100000611   \n",
       "703      1709963  08659.015467/2012-73         100000611   \n",
       "705      1781075  08654.009504/2016-88         100000611   \n",
       "712      2283483  08656.095649/2016-73         100000643   \n",
       "\n",
       "                              tipo_processo data_criacao_processo   ano  \n",
       "589  Senatran: Análise de Normas do Contran            2004-09-09  2004  \n",
       "702  Senatran: Infrações: Recursos de Multa            2016-08-12  2016  \n",
       "703  Senatran: Infrações: Recursos de Multa            2012-08-29  2012  \n",
       "705  Senatran: Infrações: Recursos de Multa            2016-08-12  2016  \n",
       "712              Senatran: Recurso de Multa            2016-08-13  2016  "
      ]
     },
     "execution_count": 155,
     "metadata": {},
     "output_type": "execute_result"
    }
   ],
   "source": [
    "dados_senatran['ano'] = dados_senatran.data_criacao_processo.dt.year\n",
    "\n",
    "dados_senatran.head()"
   ]
  },
  {
   "cell_type": "code",
   "execution_count": 127,
   "id": "4e153ef7-2e79-4fea-aea1-1100a66b5385",
   "metadata": {},
   "outputs": [
    {
     "data": {
      "text/plain": [
       "ano\n",
       "2001       1.083333\n",
       "2002       0.166667\n",
       "2003       0.333333\n",
       "2004       0.666667\n",
       "2005       0.833333\n",
       "2006       1.666667\n",
       "2007       1.416667\n",
       "2008       1.416667\n",
       "2009       1.666667\n",
       "2010       2.000000\n",
       "2011       4.000000\n",
       "2012       4.500000\n",
       "2013       5.666667\n",
       "2014       8.000000\n",
       "2015      14.500000\n",
       "2016      55.000000\n",
       "2017      65.333333\n",
       "2018      35.333333\n",
       "2019    1307.000000\n",
       "2020     797.333333\n",
       "2021     851.583333\n",
       "2022     732.500000\n",
       "Name: id_processo, dtype: float64"
      ]
     },
     "execution_count": 127,
     "metadata": {},
     "output_type": "execute_result"
    }
   ],
   "source": [
    "dados_senatran.groupby('ano').count().id_processo / 12"
   ]
  },
  {
   "cell_type": "markdown",
   "id": "6ede28a8-137e-4ca4-afbe-c92afbbd1358",
   "metadata": {},
   "source": [
    "4. Em qual época do ano existe a maior criação de processos sob resposabilidade do SENATRAN?\n",
    "___"
   ]
  },
  {
   "cell_type": "code",
   "execution_count": 135,
   "id": "5647cc1b-500f-4cce-8639-e60305ab7aae",
   "metadata": {},
   "outputs": [
    {
     "data": {
      "text/html": [
       "<div>\n",
       "<style scoped>\n",
       "    .dataframe tbody tr th:only-of-type {\n",
       "        vertical-align: middle;\n",
       "    }\n",
       "\n",
       "    .dataframe tbody tr th {\n",
       "        vertical-align: top;\n",
       "    }\n",
       "\n",
       "    .dataframe thead th {\n",
       "        text-align: right;\n",
       "    }\n",
       "</style>\n",
       "<table border=\"1\" class=\"dataframe\">\n",
       "  <thead>\n",
       "    <tr style=\"text-align: right;\">\n",
       "      <th></th>\n",
       "      <th>id_processo</th>\n",
       "      <th>numero_processo</th>\n",
       "      <th>id_tipo_processo</th>\n",
       "      <th>tipo_processo</th>\n",
       "      <th>data_criacao_processo</th>\n",
       "      <th>ano</th>\n",
       "      <th>month</th>\n",
       "    </tr>\n",
       "  </thead>\n",
       "  <tbody>\n",
       "    <tr>\n",
       "      <th>589</th>\n",
       "      <td>2001429</td>\n",
       "      <td>80001.014528/2004-27</td>\n",
       "      <td>100000644</td>\n",
       "      <td>Senatran: Análise de Normas do Contran</td>\n",
       "      <td>2004-09-09</td>\n",
       "      <td>2004</td>\n",
       "      <td>9</td>\n",
       "    </tr>\n",
       "    <tr>\n",
       "      <th>702</th>\n",
       "      <td>1732542</td>\n",
       "      <td>08656.094753/2016-41</td>\n",
       "      <td>100000611</td>\n",
       "      <td>Senatran: Infrações: Recursos de Multa</td>\n",
       "      <td>2016-08-12</td>\n",
       "      <td>2016</td>\n",
       "      <td>8</td>\n",
       "    </tr>\n",
       "    <tr>\n",
       "      <th>703</th>\n",
       "      <td>1709963</td>\n",
       "      <td>08659.015467/2012-73</td>\n",
       "      <td>100000611</td>\n",
       "      <td>Senatran: Infrações: Recursos de Multa</td>\n",
       "      <td>2012-08-29</td>\n",
       "      <td>2012</td>\n",
       "      <td>8</td>\n",
       "    </tr>\n",
       "    <tr>\n",
       "      <th>705</th>\n",
       "      <td>1781075</td>\n",
       "      <td>08654.009504/2016-88</td>\n",
       "      <td>100000611</td>\n",
       "      <td>Senatran: Infrações: Recursos de Multa</td>\n",
       "      <td>2016-08-12</td>\n",
       "      <td>2016</td>\n",
       "      <td>8</td>\n",
       "    </tr>\n",
       "    <tr>\n",
       "      <th>712</th>\n",
       "      <td>2283483</td>\n",
       "      <td>08656.095649/2016-73</td>\n",
       "      <td>100000643</td>\n",
       "      <td>Senatran: Recurso de Multa</td>\n",
       "      <td>2016-08-13</td>\n",
       "      <td>2016</td>\n",
       "      <td>8</td>\n",
       "    </tr>\n",
       "  </tbody>\n",
       "</table>\n",
       "</div>"
      ],
      "text/plain": [
       "     id_processo       numero_processo  id_tipo_processo  \\\n",
       "589      2001429  80001.014528/2004-27         100000644   \n",
       "702      1732542  08656.094753/2016-41         100000611   \n",
       "703      1709963  08659.015467/2012-73         100000611   \n",
       "705      1781075  08654.009504/2016-88         100000611   \n",
       "712      2283483  08656.095649/2016-73         100000643   \n",
       "\n",
       "                              tipo_processo data_criacao_processo   ano  month  \n",
       "589  Senatran: Análise de Normas do Contran            2004-09-09  2004      9  \n",
       "702  Senatran: Infrações: Recursos de Multa            2016-08-12  2016      8  \n",
       "703  Senatran: Infrações: Recursos de Multa            2012-08-29  2012      8  \n",
       "705  Senatran: Infrações: Recursos de Multa            2016-08-12  2016      8  \n",
       "712              Senatran: Recurso de Multa            2016-08-13  2016      8  "
      ]
     },
     "execution_count": 135,
     "metadata": {},
     "output_type": "execute_result"
    }
   ],
   "source": [
    "dados_senatran.head()"
   ]
  },
  {
   "cell_type": "code",
   "execution_count": 136,
   "id": "79891eef-4e12-46c8-ad86-1b83c09e0752",
   "metadata": {},
   "outputs": [
    {
     "data": {
      "text/html": [
       "<div>\n",
       "<style scoped>\n",
       "    .dataframe tbody tr th:only-of-type {\n",
       "        vertical-align: middle;\n",
       "    }\n",
       "\n",
       "    .dataframe tbody tr th {\n",
       "        vertical-align: top;\n",
       "    }\n",
       "\n",
       "    .dataframe thead th {\n",
       "        text-align: right;\n",
       "    }\n",
       "</style>\n",
       "<table border=\"1\" class=\"dataframe\">\n",
       "  <thead>\n",
       "    <tr style=\"text-align: right;\">\n",
       "      <th></th>\n",
       "      <th>id_processo</th>\n",
       "      <th>numero_processo</th>\n",
       "      <th>id_tipo_processo</th>\n",
       "      <th>tipo_processo</th>\n",
       "      <th>data_criacao_processo</th>\n",
       "      <th>ano</th>\n",
       "      <th>month</th>\n",
       "    </tr>\n",
       "  </thead>\n",
       "  <tbody>\n",
       "    <tr>\n",
       "      <th>589</th>\n",
       "      <td>2001429</td>\n",
       "      <td>80001.014528/2004-27</td>\n",
       "      <td>100000644</td>\n",
       "      <td>Senatran: Análise de Normas do Contran</td>\n",
       "      <td>2004-09-09</td>\n",
       "      <td>2004</td>\n",
       "      <td>9</td>\n",
       "    </tr>\n",
       "    <tr>\n",
       "      <th>702</th>\n",
       "      <td>1732542</td>\n",
       "      <td>08656.094753/2016-41</td>\n",
       "      <td>100000611</td>\n",
       "      <td>Senatran: Infrações: Recursos de Multa</td>\n",
       "      <td>2016-08-12</td>\n",
       "      <td>2016</td>\n",
       "      <td>8</td>\n",
       "    </tr>\n",
       "    <tr>\n",
       "      <th>703</th>\n",
       "      <td>1709963</td>\n",
       "      <td>08659.015467/2012-73</td>\n",
       "      <td>100000611</td>\n",
       "      <td>Senatran: Infrações: Recursos de Multa</td>\n",
       "      <td>2012-08-29</td>\n",
       "      <td>2012</td>\n",
       "      <td>8</td>\n",
       "    </tr>\n",
       "    <tr>\n",
       "      <th>705</th>\n",
       "      <td>1781075</td>\n",
       "      <td>08654.009504/2016-88</td>\n",
       "      <td>100000611</td>\n",
       "      <td>Senatran: Infrações: Recursos de Multa</td>\n",
       "      <td>2016-08-12</td>\n",
       "      <td>2016</td>\n",
       "      <td>8</td>\n",
       "    </tr>\n",
       "    <tr>\n",
       "      <th>712</th>\n",
       "      <td>2283483</td>\n",
       "      <td>08656.095649/2016-73</td>\n",
       "      <td>100000643</td>\n",
       "      <td>Senatran: Recurso de Multa</td>\n",
       "      <td>2016-08-13</td>\n",
       "      <td>2016</td>\n",
       "      <td>8</td>\n",
       "    </tr>\n",
       "  </tbody>\n",
       "</table>\n",
       "</div>"
      ],
      "text/plain": [
       "     id_processo       numero_processo  id_tipo_processo  \\\n",
       "589      2001429  80001.014528/2004-27         100000644   \n",
       "702      1732542  08656.094753/2016-41         100000611   \n",
       "703      1709963  08659.015467/2012-73         100000611   \n",
       "705      1781075  08654.009504/2016-88         100000611   \n",
       "712      2283483  08656.095649/2016-73         100000643   \n",
       "\n",
       "                              tipo_processo data_criacao_processo   ano  month  \n",
       "589  Senatran: Análise de Normas do Contran            2004-09-09  2004      9  \n",
       "702  Senatran: Infrações: Recursos de Multa            2016-08-12  2016      8  \n",
       "703  Senatran: Infrações: Recursos de Multa            2012-08-29  2012      8  \n",
       "705  Senatran: Infrações: Recursos de Multa            2016-08-12  2016      8  \n",
       "712              Senatran: Recurso de Multa            2016-08-13  2016      8  "
      ]
     },
     "execution_count": 136,
     "metadata": {},
     "output_type": "execute_result"
    }
   ],
   "source": [
    "dados_senatran['month'] = dados_senatran.data_criacao_processo.dt.month\n",
    "\n",
    "dados_senatran.head()"
   ]
  },
  {
   "cell_type": "code",
   "execution_count": 137,
   "id": "5110a1b6-6d0c-4718-8811-6264ae0a9883",
   "metadata": {},
   "outputs": [
    {
     "data": {
      "text/plain": [
       "month\n",
       "1     2805\n",
       "2     3505\n",
       "3     5273\n",
       "4     4183\n",
       "5     4593\n",
       "6     3963\n",
       "7     4486\n",
       "8     4850\n",
       "9     4332\n",
       "10    3271\n",
       "11    2909\n",
       "12    2534\n",
       "Name: id_processo, dtype: int64"
      ]
     },
     "execution_count": 137,
     "metadata": {},
     "output_type": "execute_result"
    }
   ],
   "source": [
    "dados_senatran.groupby('month').id_processo.count()"
   ]
  },
  {
   "cell_type": "markdown",
   "id": "d6015c62-0c6a-470b-a95e-1c61c3a01d0e",
   "metadata": {},
   "source": [
    "### Funções utilizadas\n",
    "\n",
    "<code>.read_csv()    -> https://pandas.pydata.org/docs/reference/api/pandas.read_csv.html</code><br>\n",
    "<code>.head()        -> https://pandas.pydata.org/docs/reference/api/pandas.DataFrame.head.html</code><br>\n",
    "<code>.shape         -> https://pandas.pydata.org/docs/reference/api/pandas.DataFrame.shape.html</code><br>\n",
    "<code>.nunique()     -> https://pandas.pydata.org/docs/reference/api/pandas.DataFrame.nunique.html</code><br>\n",
    "<code>.info()        -> https://pandas.pydata.org/docs/reference/api/pandas.DataFrame.info.html</code><br>\n",
    "<code>.to_datetime() -> https://pandas.pydata.org/docs/reference/api/pandas.to_datetime.html</code><br>\n",
    "<code>.min()         -> https://pandas.pydata.org/docs/reference/api/pandas.DataFrame.min.html</code><br>\n",
    "<code>.max()         -> https://pandas.pydata.org/docs/reference/api/pandas.DataFrame.max.html</code><br>\n",
    "<code>.count()       -> https://pandas.pydata.org/docs/reference/api/pandas.DataFrame.count.html</code><br>\n",
    "<code>count()        -> https://docs.python.org/3/library/functions.html#round</code><br>\n",
    "<code>.dt.year()     -> https://pandas.pydata.org/docs/reference/api/pandas.Series.dt.year.html</code><br>\n",
    "<code>.groupby()     -> https://pandas.pydata.org/docs/reference/api/pandas.DataFrame.groupby.html</code><br>\n",
    "\n",
    "\n"
   ]
  }
 ],
 "metadata": {
  "kernelspec": {
   "display_name": "Python 3 (ipykernel)",
   "language": "python",
   "name": "python3"
  },
  "language_info": {
   "codemirror_mode": {
    "name": "ipython",
    "version": 3
   },
   "file_extension": ".py",
   "mimetype": "text/x-python",
   "name": "python",
   "nbconvert_exporter": "python",
   "pygments_lexer": "ipython3",
   "version": "3.8.10"
  }
 },
 "nbformat": 4,
 "nbformat_minor": 5
}
