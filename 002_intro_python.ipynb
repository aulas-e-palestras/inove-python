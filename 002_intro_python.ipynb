{
 "cells": [
  {
   "cell_type": "markdown",
   "id": "6f9f15c9",
   "metadata": {},
   "source": [
    "![](https://cbic.org.br/wp-content/uploads/2022/02/909fa5d1543363d809512626531cff03.jpeg)\n",
    "\n",
    "# Introdução ao Python\n",
    "\n",
    "Prof.: Nasser Santiago Boan\n",
    "___\n",
    "\n",
    "Python é uma linguagem interpretada de propósito geral criada em 1991. Ela foi criada por Guido Van Rossum, como um projeto de férias e o nome foi uma dedicatória ao show Monty Python.Ela é uma linguagem que valoriza a legibilidade do código por meio do uso de espaçamentos. Foi a segunda linguagem de programação mais usada em 2020 e mantem seu status em 2021 também é a principal linguagem utilizada pelos cientistas de dados.\n",
    "\n",
    "<img src=\"imagens/top_languages.png\" alt=\"linguagens_mais_usadas\" style=\"width: 600px;\"/>\n",
    "\n",
    "As principais ferramentas de análise de dados e machine learning possuem APIs em python, consequentemente, entender python, sua sintaxe e usabilidade é extremamente necessários para um cientista de dados. Algumas fas ferramentas mais utilizadas por cientistas de dados e que estão em python:\n",
    "\n",
    "* [Scikit-Learn](https://scikit-learn.org/stable/index.html) - Machine learning, algoritmos de pré-processamento de dados, extração de características, redução de dimensionalidade, algoritmos supervisionados e não supervisionados, métricas e funções para construção de pipelines.\n",
    "\n",
    "```python\n",
    "## exemplo de uma support vector machine para previsão de valores contínuos\n",
    "from sklearn import svm\n",
    "\n",
    "X = [[0, 0], [2, 2]]\n",
    "y = [0.5, 2.5]\n",
    "regr = svm.SVR()\n",
    "regr.fit(X, y)\n",
    "regr.predict([[1, 1]])\n",
    "\n",
    "```\n",
    "\n",
    "* [Pandas](https://pandas.pydata.org/) - Análise de dados, conjunto de funções para abertura de arquivos de diversas extensões (.csv,.json,.stata,.xlsx etc), funções para construção, junção, reformatação de dataframes e séries de dados. Habitualmente compara a ferramentas de trabalho com tabelas como o MS Excel.\n",
    "\n",
    "```python\n",
    "## exemplo de comando para leitura de um arquivo  com extensão .csv\n",
    "import pandas as pd\n",
    "\n",
    "alunos = \"arquivo.csv\"\n",
    "\n",
    "pd.read_csv(StringIO(data))\n",
    "\n",
    "  col1 col2  col3\n",
    "0    a    b     1\n",
    "1    a    b     2\n",
    "2    c    d     3\n",
    "\n",
    "```\n",
    "\n",
    "* [Numpy](https://numpy.org/) - Arrays e Matrizes, conjunto de funções para construção, manipulação e operações com arrays e matrizes, álgebra linear, operações estatísticas básicas, simulações de valores aleatórios, operações lógicas e matemáticas básicas.\n",
    "\n",
    "```python\n",
    "fig, ax = plt.subplots()  # Create a figure containing a single axes.\n",
    "ax.plot([1, 2, 3, 4], [1, 4, 2, 3]);  # Plot some data on the axes.\n",
    "\n",
    "```\n",
    "* [Matplotlib](https://matplotlib.org/stable/index.html) - Gráficos, conjunto de funções para construção de gráficos dos mais variados tipos, funções para definição de estilo, texto, títulos, legendas e outros componentes acessários a um gráfico.\n",
    "\n",
    "```python\n",
    "## exemplo da criação de um gráfico de linha.\n",
    "\n",
    "import matplotlib.pyplot as plt\n",
    "fig, ax = plt.subplots()  \n",
    "ax.plot([1, 2, 3, 4], [1, 4, 2, 3]) \n",
    "```\n",
    "![grafico](https://matplotlib.org/stable/_images/sphx_glr_quick_start_001.png)"
   ]
  },
  {
   "cell_type": "markdown",
   "id": "d9bb6929",
   "metadata": {},
   "source": [
    "# Lógica de Programação\n",
    "___\n",
    "\n",
    "A lógica de programação é a técnica de encadear pensamentos para atingir determinado objetivo. Ela é necessária para o desenvolvimento de sistemas, visto que, sistemas nada mais são do que ferramentas (escritas em numa linguagem de computador) que recebem instruções e executam tarefas. O encadeamento correto e lógico dessas tarefas irá gerar o resultado esperado de forma previsível e coesa. Por exemplo, para cozinhar uma batata é necessário uma série de instruções e atividades que fazemos de forma automática, porém em desenvolvimento devemos claramente descrever cada etapada do processo, isso é uma sequência lógica de instruções.\n",
    "\n",
    "1. Pegar 1 batata\n",
    "2. Pegar 1 panela\n",
    "3. Descascar a batata\n",
    "4. Colocar a batata na panela\n",
    "5. Encher a panela com água\n",
    "6. Colocar a panela no fogão\n",
    "7. Ligar o fogão em fogo alto\n",
    "8. Esperar 15 minutos\n",
    "9. Desligar o fogo\n",
    "10. Retirar a água da penela\n",
    "11. Retirar a batata cozida da panela\n",
    "\n",
    "Essa sequência finita de instruções é um **algoritmo**. Algoritmos não suportam redundâncias ou subjetividades, as tarefas devem ser claramente escritas e precisas naquilo que fazem. Em nossa alfabetização aprendemos uma sequência de tarefas que devem ser feitas para chegar em um resultado específico, por exemplo uma soma.\n",
    "\n",
    "#### Some dois números quaisquer\n",
    "\n",
    "* Escreva o primeiro número no retângulo A\n",
    "* Escreva o segundo número no retângulo B\n",
    "* Some o número do retângulo A com o número do retângulo B e coloque o resultado no retângulo C.\n",
    "\n",
    "![retangulos](imagens/retangulos.png)"
   ]
  },
  {
   "cell_type": "markdown",
   "id": "61086e6e",
   "metadata": {},
   "source": [
    "# Algoritmos\n",
    "\n",
    "Algoritmos resolvem problemas, entender logicamente esses problemas e planejar o algoritmo em três fases são o primeiro passo. Essas três fases são **ENTRADA**->**PROCESSAMENTO**->**SAÍDA**, por exemplo, um algoritmo que recebe(entrada) qualquer valor numérico (inteiro ou contínuo), cálcula o cubo desta entrada (processamento) e printa o resultado (saída)."
   ]
  },
  {
   "cell_type": "code",
   "execution_count": 99,
   "id": "b946e4fd",
   "metadata": {},
   "outputs": [],
   "source": [
    "def cubo(valor_numerico):\n",
    "    \n",
    "    resultado = valor_numerico ** 3\n",
    "    \n",
    "    print(resultado)"
   ]
  },
  {
   "cell_type": "code",
   "execution_count": 100,
   "id": "aa4ecc41",
   "metadata": {},
   "outputs": [
    {
     "name": "stdout",
     "output_type": "stream",
     "text": [
      "5832\n"
     ]
    }
   ],
   "source": [
    "cubo(18)"
   ]
  },
  {
   "cell_type": "markdown",
   "id": "694c9c28",
   "metadata": {},
   "source": [
    "A \"entrada\" são os dados de entrada do algoritmo, esses dados de entrada podem valores inteiro, contínuos (flutuantes), listas ou objetos mais complexos. Um carro autônomo pro exemplo tem um algoritmo que toma decisão de mudança de direção, a entrada desse algoritmo são imagens e dados dos diversos sensores.\n",
    "\n",
    "![carro_autonomo](https://static01.nyt.com/images/2017/05/26/business/26wheels-top/26wheels-top-articleLarge-v2.gif?quality=75&auto=webp&disable=upscale)\n",
    "\n",
    "Representação dos dados de LIDAR de um carro autônomo.\n",
    "\n",
    "O \"processamento\" são os procedimentos utilizados para chegar até o resultado final. Aqui temos todas as operações e passos lógicos para chegarmos no resultado esperado. No processamento utilizamos técnicas matemáticas, estatísticas e computacionais para transformar a entrada na saída.\n",
    "\n",
    "<img src=\"https://i.pinimg.com/originals/04/8a/51/048a51831e45b04321af593612a04a16.gif\" alt=\"neural\" style=\"width: 600px;\"/>\n",
    "\n",
    "Uma rede neural efetuando o processamento de uma imagem para predição.\n",
    "\n",
    "A \"saída\" são os dados processados no formato do resultado esperado. Saídas podem ser textuais, numéricas, objetos e até mesmo imagens. No exemplo acima da rede neural a entrada é uma imagem, o processamento é feito através de técnicas de convolução e multiplicação de matrizes e a saída é uma classe (cachorro), que pode ser representada por um número ou por texto."
   ]
  },
  {
   "cell_type": "markdown",
   "id": "a01b9abc",
   "metadata": {},
   "source": [
    "Podemos representar visualmente algoritmos através de uma notação padronizada. Ela nos ajudará a entender e planejar alguns algorimtos mais simples. É extremamente recomendável que, antes de qualquer trabalho, seja feita uma etapa de planejamento do algoritmo, suas entradas, saídas e etapas de processamento. Pergunte-se: o que espero como saída? quais são as entradas necessárias? quais etapas de processamento serão necessárias para chegar no resultado que espero? um algoritmo é suficiente? \n",
    "\n",
    "![notacao](imagens/notacao.png)"
   ]
  },
  {
   "cell_type": "markdown",
   "id": "e63495f2",
   "metadata": {},
   "source": [
    "Um algoritmo de cálcula a média de 4 notas de um determinada matéria, pode funcionar da seguinte forma.\n",
    "\n",
    "![](imgs/algoritmo.png)\n",
    "\n",
    "E em python esse algoritmo pode ser:\n",
    "\n",
    "```python\n",
    "\n",
    "def media_notas(n1,n2,n3,n4):\n",
    "    media = (n1+n2+n3+n4)/4\n",
    "    print(media)\n",
    "    \n",
    ">> media_notas(10,10,4,3)\n",
    ">> 6.75\n",
    "```\n",
    "\n",
    "Mas esse algoritmo também pode ser descrito em outras linguagens, javascript, por exemplo.\n",
    "\n",
    "```javascript\n",
    "function myFunction(n1, n2, n3, n4) {\n",
    "  return (n1+n2+n3+n4)/4; \n",
    "}\n",
    "\n",
    "console.log(myFunction(10,10,4,3))\n",
    "\n",
    "6.75\n",
    "\n",
    "```"
   ]
  },
  {
   "cell_type": "markdown",
   "id": "1497133c",
   "metadata": {},
   "source": [
    "O caminho mais comumente utilizado é a transformação da necessidade em linguagem natural (um texto), depois em diagrama (como o demonstrado acima), esse diagrama é então reescrito em uma linguagem de programação (human-readable) e assim na sua execução enviada para a unidade lógica em lingaguem de máquina (comandos binários). Python é uma linguagem interpretada, ou seja, os comandos são enviados a um interpretador que transforma a linguagem de programação padronizada em comandos que possam ser executados por unidades de processamento, isso torna o aprendizado de python bem fácil visto que sua sintaxe de escrita é simples e de fácil leitura."
   ]
  },
  {
   "cell_type": "markdown",
   "id": "91e8ec7b",
   "metadata": {},
   "source": [
    "# Python\n",
    "___"
   ]
  },
  {
   "cell_type": "markdown",
   "id": "300bccc9",
   "metadata": {},
   "source": [
    "## Variáveis\n",
    "\n",
    "\n",
    "Variáveis são espaços na memória do computador que possuem valores acessáveis. Utilizamos um símbolo de igual ```=```, também chamado de símbolo de atribuição para criar variáveis."
   ]
  },
  {
   "cell_type": "code",
   "execution_count": 101,
   "id": "4f1f2ae6",
   "metadata": {},
   "outputs": [],
   "source": [
    "a = 10\n",
    "b = 20"
   ]
  },
  {
   "cell_type": "code",
   "execution_count": 102,
   "id": "15c8c8ce",
   "metadata": {},
   "outputs": [
    {
     "name": "stdout",
     "output_type": "stream",
     "text": [
      "10\n"
     ]
    }
   ],
   "source": [
    "print(a)"
   ]
  },
  {
   "cell_type": "code",
   "execution_count": 103,
   "id": "c347ef88",
   "metadata": {},
   "outputs": [
    {
     "name": "stdout",
     "output_type": "stream",
     "text": [
      "20\n"
     ]
    }
   ],
   "source": [
    "print(b)"
   ]
  },
  {
   "cell_type": "code",
   "execution_count": 104,
   "id": "80c78d5b",
   "metadata": {},
   "outputs": [],
   "source": [
    "nome = 'João'"
   ]
  },
  {
   "cell_type": "code",
   "execution_count": 105,
   "id": "efad8283",
   "metadata": {},
   "outputs": [
    {
     "name": "stdout",
     "output_type": "stream",
     "text": [
      "João\n"
     ]
    }
   ],
   "source": [
    "print(nome)"
   ]
  },
  {
   "cell_type": "markdown",
   "id": "61534a12",
   "metadata": {},
   "source": [
    "É importante entender que o identificador é único e recebe somente um valor por vez, para criarmos conjuntos de valores foram criadas estruturas de dados (dicionários, arrays, listas, tuplas). Se usarmos um identificador mais de um vez ele terá seu valor sobreescrito pelo valor mais recente. Exemplo:"
   ]
  },
  {
   "cell_type": "code",
   "execution_count": 106,
   "id": "f92778f7",
   "metadata": {},
   "outputs": [
    {
     "name": "stdout",
     "output_type": "stream",
     "text": [
      "João\n"
     ]
    }
   ],
   "source": [
    "print(nome)"
   ]
  },
  {
   "cell_type": "code",
   "execution_count": 107,
   "id": "8d3ef9e7",
   "metadata": {},
   "outputs": [],
   "source": [
    "nome = 'Nasser'"
   ]
  },
  {
   "cell_type": "code",
   "execution_count": 108,
   "id": "da4ce056",
   "metadata": {},
   "outputs": [
    {
     "name": "stdout",
     "output_type": "stream",
     "text": [
      "Nasser\n"
     ]
    }
   ],
   "source": [
    "print(nome)"
   ]
  },
  {
   "cell_type": "markdown",
   "id": "bee4eb12",
   "metadata": {},
   "source": [
    "Acima percebemos que a variável ```nome``` já existia com o valor ```João```, ao atribuirmos um novo valor a essa mesma variável, perdemos ```João``` e guardado na variável agora existe o valor ```Nasser```. É importante notar que o python executa as células de código numa ordenação de cima para baixo linha a linha.\n",
    "\n",
    "```python\n",
    "idade = 30\n",
    "idade = 115\n",
    "idade = 10\n",
    "```\n",
    "\n",
    "Usando os conceitos vistos até então, qual seria o valor final na variável ```idade``` ?"
   ]
  },
  {
   "cell_type": "markdown",
   "id": "88cb67d3",
   "metadata": {},
   "source": [
    "Variáveis são necessárias e ajudam a construir algoritmos mais dinâmicos e capazes de receberem valores diferentes e mesmo assim darem o mesmo resultado. A função ```cubo``` demonstrada nos exemplos da sessão anterior está preparada para receber qualquer valor e executar a operação de potência ao cubo."
   ]
  },
  {
   "cell_type": "code",
   "execution_count": 109,
   "id": "b2859cc1",
   "metadata": {},
   "outputs": [
    {
     "name": "stdout",
     "output_type": "stream",
     "text": [
      "1000\n"
     ]
    }
   ],
   "source": [
    "cubo(10)"
   ]
  },
  {
   "cell_type": "code",
   "execution_count": 110,
   "id": "97648a2c",
   "metadata": {},
   "outputs": [
    {
     "name": "stdout",
     "output_type": "stream",
     "text": [
      "8000\n"
     ]
    }
   ],
   "source": [
    "cubo(20)"
   ]
  },
  {
   "cell_type": "markdown",
   "id": "9c2e33ad",
   "metadata": {},
   "source": [
    "Vale a pena notar que ao criar variáveis, seus identificadores (ou nomes) devem seguir algumas regras. As variáveis podem ter números e letras, porém não podemos iniciar o nome de variáveis com números e nem utilizar algumas palavras reservadas pelo sistema. A criação de identificadores também é sensível a caixa alta, sendo considerado diferentes identificadores escritos de formas diferentes."
   ]
  },
  {
   "cell_type": "code",
   "execution_count": 111,
   "id": "fa196a93",
   "metadata": {},
   "outputs": [
    {
     "ename": "SyntaxError",
     "evalue": "invalid decimal literal (908161962.py, line 1)",
     "output_type": "error",
     "traceback": [
      "\u001b[0;36m  File \u001b[0;32m\"/tmp/ipykernel_34760/908161962.py\"\u001b[0;36m, line \u001b[0;32m1\u001b[0m\n\u001b[0;31m    12_idade_joao = 15\u001b[0m\n\u001b[0m      ^\u001b[0m\n\u001b[0;31mSyntaxError\u001b[0m\u001b[0;31m:\u001b[0m invalid decimal literal\n"
     ]
    }
   ],
   "source": [
    "12_idade_joao = 15"
   ]
  },
  {
   "cell_type": "markdown",
   "id": "84b074ca",
   "metadata": {},
   "source": [
    "Acima o erro de sintaxe demonstra que não podemos criar uma variável iniciando com o número 12."
   ]
  },
  {
   "cell_type": "code",
   "execution_count": 112,
   "id": "e78ef4cb",
   "metadata": {},
   "outputs": [
    {
     "ename": "SyntaxError",
     "evalue": "invalid syntax (2574093041.py, line 1)",
     "output_type": "error",
     "traceback": [
      "\u001b[0;36m  File \u001b[0;32m\"/tmp/ipykernel_34760/2574093041.py\"\u001b[0;36m, line \u001b[0;32m1\u001b[0m\n\u001b[0;31m    return = 15\u001b[0m\n\u001b[0m           ^\u001b[0m\n\u001b[0;31mSyntaxError\u001b[0m\u001b[0;31m:\u001b[0m invalid syntax\n"
     ]
    }
   ],
   "source": [
    "return = 15"
   ]
  },
  {
   "cell_type": "markdown",
   "id": "40e56d85",
   "metadata": {},
   "source": [
    "A palavra reservada ```return``` já descreve um comando nativo do python que não pode ser substituído e por isso não podemos utilizar esse identificador para criar uma variável. Segue uma lista de palavras reservadas em python.\n",
    "\n",
    "![palavras_reservadas](https://www.devopsschool.com/blog/wp-content/uploads/2020/08/keyword-in-python.png)"
   ]
  },
  {
   "cell_type": "markdown",
   "id": "76d89d6b",
   "metadata": {},
   "source": [
    "## Tipos de dados\n",
    "\n",
    "As variáveis podem receber dados e objetos. Pode-se dividir os dados em 4 tipos diferentes, cada tipo de dado tem sua particularidade e pode ser utilizado em situações específicas. Todo código em python vai ter, em seu processamento, que lidar com esses tipos de dados, são eles:\n",
    "\n",
    "* string (str) - valores textuais, representados por aspas (simples ou duplas) ou criados através da função ```str()```\n",
    "* integer (int) - valores númericos inteiros, criados através da função ```int()```\n",
    "* float (float) - valores numéricos fracionários, também chamados de valores flutuantes, criados através da função ```float()```\n",
    "* boolean (bool) - valores booleanos, só assumem dois valores possíveis ```True``` e ```False```. Computacionalmente ```True``` pode ser representado pelo valor 1 e ```False``` por 0.\n",
    "\n",
    "\n",
    "É possível descrobrir o tipo de um dado usando a função ```type()```."
   ]
  },
  {
   "cell_type": "code",
   "execution_count": 113,
   "id": "1f41a5c0",
   "metadata": {},
   "outputs": [
    {
     "data": {
      "text/plain": [
       "str"
      ]
     },
     "execution_count": 113,
     "metadata": {},
     "output_type": "execute_result"
    }
   ],
   "source": [
    "## uma string\n",
    "\n",
    "x = 'Nasser'\n",
    "type(x)"
   ]
  },
  {
   "cell_type": "code",
   "execution_count": 114,
   "id": "58378987",
   "metadata": {},
   "outputs": [
    {
     "data": {
      "text/plain": [
       "int"
      ]
     },
     "execution_count": 114,
     "metadata": {},
     "output_type": "execute_result"
    }
   ],
   "source": [
    "## um integer\n",
    "\n",
    "x = 150\n",
    "type(x)"
   ]
  },
  {
   "cell_type": "code",
   "execution_count": 115,
   "id": "df53c72f",
   "metadata": {},
   "outputs": [
    {
     "data": {
      "text/plain": [
       "float"
      ]
     },
     "execution_count": 115,
     "metadata": {},
     "output_type": "execute_result"
    }
   ],
   "source": [
    "## um float\n",
    "\n",
    "x = 3.75\n",
    "type(x)"
   ]
  },
  {
   "cell_type": "code",
   "execution_count": 116,
   "id": "ecb00482",
   "metadata": {},
   "outputs": [
    {
     "data": {
      "text/plain": [
       "bool"
      ]
     },
     "execution_count": 116,
     "metadata": {},
     "output_type": "execute_result"
    }
   ],
   "source": [
    "## um boolean\n",
    "\n",
    "x = True\n",
    "type(x)"
   ]
  },
  {
   "cell_type": "markdown",
   "id": "5bbb377d",
   "metadata": {},
   "source": [
    "É interessante notar que o simples fato de atribuirmos um valor a uma variável o tipo do dado já é reconhecido, ou seja, não há necessidade de declarar a variável ou o tipo de dados que será guardado."
   ]
  },
  {
   "cell_type": "markdown",
   "id": "3645d9ab",
   "metadata": {},
   "source": [
    "## Operadores Aritiméticos\n",
    "\n",
    "Operações aritiméticas são necessárias para qualquer trabalho de processamento, utilizando variáveis podemos executar operações matemáticas de forma dinâmica. Esses são os operadores matemáticos utilizados em python.\n",
    "\n",
    "| Operador |            Ação            |\n",
    "|:--------:|:--------------------------:|\n",
    "|     -    |          subtração         |\n",
    "|     +    |           adição           |\n",
    "|     *    |        multiplicação       |\n",
    "|     %    |  módulo da divisão (resto) |\n",
    "|    **    |         potenciação        |\n",
    "|    +=    |      incremento (soma)     |\n",
    "|    *=    | incremento (multiplicação) |\n",
    "|    -=    |   decremento (subtração)   |\n",
    "\n",
    "Para utilizar qualquer uma das operações demonstradas acima, basta escrever o operador associado com as variáveis, bem similar a uma fórmula matemática comum."
   ]
  },
  {
   "cell_type": "code",
   "execution_count": 117,
   "id": "056e6b8b",
   "metadata": {},
   "outputs": [
    {
     "data": {
      "text/plain": [
       "25"
      ]
     },
     "execution_count": 117,
     "metadata": {},
     "output_type": "execute_result"
    }
   ],
   "source": [
    "## subtração\n",
    "\n",
    "28 - 3"
   ]
  },
  {
   "cell_type": "code",
   "execution_count": 118,
   "id": "c68d7dd3",
   "metadata": {},
   "outputs": [
    {
     "data": {
      "text/plain": [
       "56"
      ]
     },
     "execution_count": 118,
     "metadata": {},
     "output_type": "execute_result"
    }
   ],
   "source": [
    "## adição\n",
    "\n",
    "28 + 28"
   ]
  },
  {
   "cell_type": "code",
   "execution_count": 119,
   "id": "ed943e2f",
   "metadata": {},
   "outputs": [
    {
     "data": {
      "text/plain": [
       "42.0"
      ]
     },
     "execution_count": 119,
     "metadata": {},
     "output_type": "execute_result"
    }
   ],
   "source": [
    "## multiplicação\n",
    "\n",
    "28 * 1.5"
   ]
  },
  {
   "cell_type": "code",
   "execution_count": 120,
   "id": "f7ba6630",
   "metadata": {},
   "outputs": [
    {
     "data": {
      "text/plain": [
       "5"
      ]
     },
     "execution_count": 120,
     "metadata": {},
     "output_type": "execute_result"
    }
   ],
   "source": [
    "## módulo\n",
    "\n",
    "55 % 10"
   ]
  },
  {
   "cell_type": "code",
   "execution_count": 121,
   "id": "c2527818",
   "metadata": {},
   "outputs": [
    {
     "data": {
      "text/plain": [
       "100"
      ]
     },
     "execution_count": 121,
     "metadata": {},
     "output_type": "execute_result"
    }
   ],
   "source": [
    "## potências\n",
    "\n",
    "10**2"
   ]
  },
  {
   "cell_type": "code",
   "execution_count": 122,
   "id": "c72abfad",
   "metadata": {},
   "outputs": [
    {
     "name": "stdout",
     "output_type": "stream",
     "text": [
      "15\n"
     ]
    }
   ],
   "source": [
    "## incremento\n",
    "\n",
    "x = 10\n",
    "x += 5\n",
    "print(x)"
   ]
  },
  {
   "cell_type": "code",
   "execution_count": 123,
   "id": "750e92e4",
   "metadata": {},
   "outputs": [
    {
     "name": "stdout",
     "output_type": "stream",
     "text": [
      "22.0\n"
     ]
    }
   ],
   "source": [
    "## incremento (multiplicação)\n",
    "\n",
    "x = 10\n",
    "x *= 2.2\n",
    "print(x)"
   ]
  },
  {
   "cell_type": "code",
   "execution_count": 124,
   "id": "adaf1864",
   "metadata": {},
   "outputs": [
    {
     "name": "stdout",
     "output_type": "stream",
     "text": [
      "7.5\n"
     ]
    }
   ],
   "source": [
    "## decremento\n",
    "\n",
    "x = 10\n",
    "x -= 2.5\n",
    "print(x)"
   ]
  },
  {
   "cell_type": "markdown",
   "id": "079fef92",
   "metadata": {},
   "source": [
    "### Exercício\n",
    "\n",
    "Usando as operações acima. Como podemos calcular o IMC de uma pessoa?\n",
    "\n",
    "[Referência IMC](https://www.tuasaude.com/calculadora/imc/)"
   ]
  },
  {
   "cell_type": "markdown",
   "id": "0ec337dc",
   "metadata": {},
   "source": [
    "### Exercício\n",
    "\n",
    "Tente executar operações com alguns tipos de dados diferentes em cada variável. Quais são possíveis e quais não são possíveis?"
   ]
  },
  {
   "cell_type": "markdown",
   "id": "14124a04",
   "metadata": {},
   "source": [
    "# Operadores Lógicos e Relacionais\n",
    "___\n",
    "\n",
    "Os operadores relacionais são utilizados para testar condições utilizando variáveis. O retorno de uma condição sempre será avaliado com True (verdadeiro) ou False (falso). \n",
    "\n",
    "| Descrição         | Símbolo |\n",
    "|-------------------|---------|\n",
    "| Igual a           | ==       |\n",
    "| Diferente de      | <> ou # |\n",
    "| Maior que         | >       |\n",
    "| Menor que         | <       |\n",
    "| Maior ou igual a  | >=      |\n",
    "| Menor ou igual a  | <=      |\n",
    "\n",
    "\n",
    "Podemos utilizar operadores lógicos para criar condições mais complexas. Os operadores lógicos utilizados em python são os seguintes.\n",
    "\n",
    "| Operador Lógico | Operador em python |\n",
    "|-----------------|--------------------|\n",
    "| E               | and                |\n",
    "| OU              | or                 |\n",
    "| NÃO             | not                |"
   ]
  },
  {
   "cell_type": "code",
   "execution_count": 125,
   "id": "2fe14eca",
   "metadata": {},
   "outputs": [
    {
     "data": {
      "text/plain": [
       "True"
      ]
     },
     "execution_count": 125,
     "metadata": {},
     "output_type": "execute_result"
    }
   ],
   "source": [
    "10 > 2"
   ]
  },
  {
   "cell_type": "code",
   "execution_count": 126,
   "id": "db1b559a",
   "metadata": {},
   "outputs": [
    {
     "data": {
      "text/plain": [
       "False"
      ]
     },
     "execution_count": 126,
     "metadata": {},
     "output_type": "execute_result"
    }
   ],
   "source": [
    "5 > 5"
   ]
  },
  {
   "cell_type": "code",
   "execution_count": 127,
   "id": "f9548290",
   "metadata": {},
   "outputs": [
    {
     "data": {
      "text/plain": [
       "True"
      ]
     },
     "execution_count": 127,
     "metadata": {},
     "output_type": "execute_result"
    }
   ],
   "source": [
    "5 >= 5"
   ]
  },
  {
   "cell_type": "code",
   "execution_count": 128,
   "id": "2f0572e0",
   "metadata": {},
   "outputs": [
    {
     "data": {
      "text/plain": [
       "True"
      ]
     },
     "execution_count": 128,
     "metadata": {},
     "output_type": "execute_result"
    }
   ],
   "source": [
    "a = 25\n",
    "b = 32\n",
    "\n",
    "a/2 > b**0.5"
   ]
  },
  {
   "cell_type": "code",
   "execution_count": 129,
   "id": "8391125b",
   "metadata": {},
   "outputs": [
    {
     "data": {
      "text/plain": [
       "False"
      ]
     },
     "execution_count": 129,
     "metadata": {},
     "output_type": "execute_result"
    }
   ],
   "source": [
    "## multiplas condições\n",
    "\n",
    "(a/5 > 4) and (b > 50)"
   ]
  },
  {
   "cell_type": "markdown",
   "id": "a6a57967",
   "metadata": {},
   "source": [
    "Veja que a primeira parte da condição é avaliada como True (verdadeira) e a segunda parte é avaliada como False (falso). Utilizando o operador lógico ```and``` para unir as duas partes da condição acima chegamos no resultado False."
   ]
  },
  {
   "cell_type": "code",
   "execution_count": 130,
   "id": "ef4f87dd",
   "metadata": {},
   "outputs": [
    {
     "data": {
      "text/plain": [
       "True"
      ]
     },
     "execution_count": 130,
     "metadata": {},
     "output_type": "execute_result"
    }
   ],
   "source": [
    "## multiplas condições\n",
    "a = 10\n",
    "b = 5\n",
    "\n",
    "(a > 100) or (b == 5)"
   ]
  },
  {
   "cell_type": "markdown",
   "id": "151b5ef3",
   "metadata": {},
   "source": [
    "# Estruturas condicionais\n",
    "___\n",
    "\n",
    "Tendo a capacidade de avaliar condições pode-se criar algoritmos mais dinâmicos e que tenham saídas dependentes das entradas. Utiliza-se estruturas condicionais para criar caminhos alternativos dentro de um algoritmo, esses caminhos alternativos podem (ou não) serem ativados de acordo com a condição avaliada.\n",
    "\n",
    "Imagine que, para passar de uma matéria na faculdade, é necessário uma nota final maior do que 5. Podemos montar um algoritmo para definir se um aluno passou ou não. O diagrama desse algoritmo ficaria da seguinte forma:\n",
    "\n",
    "![aluno](imagens/aluno_if.png)\n",
    "\n",
    "Existem duas saídas possíveis, para criar esse caminho alternativo utilizamos a sintaxe ```if ... else``` (se então, senão). Essa estrutura avalia a condição entregue e segue pelo caminho determinado pelo resultado da condição. Ou seja, ```se (if)``` o aluno tiver uma média maior ou igual a 5 ele é aprovado ```senão (else)``` ele é reprovado. Em python o algoritmo acima ficaria da seguinte forma:"
   ]
  },
  {
   "cell_type": "code",
   "execution_count": 131,
   "id": "3432e6a8",
   "metadata": {},
   "outputs": [
    {
     "name": "stdout",
     "output_type": "stream",
     "text": [
      "Aluno Reprovado\n"
     ]
    }
   ],
   "source": [
    "media = 4.99\n",
    "\n",
    "if media >= 5.0:\n",
    "    print('Aluno Aprovado')\n",
    "else:\n",
    "    print('Aluno Reprovado')"
   ]
  },
  {
   "cell_type": "code",
   "execution_count": 132,
   "id": "1ab128d7",
   "metadata": {},
   "outputs": [
    {
     "name": "stdout",
     "output_type": "stream",
     "text": [
      "Aluno Aprovado\n"
     ]
    }
   ],
   "source": [
    "media = 9.5\n",
    "\n",
    "if media >= 5.0:\n",
    "    print('Aluno Aprovado')\n",
    "else:\n",
    "    print('Aluno Reprovado')"
   ]
  },
  {
   "cell_type": "markdown",
   "id": "c31a3157",
   "metadata": {},
   "source": [
    "Perceba o bloco de código a ser executado fica abaixo da condição testada como verdadeira e é antecedida por 4 espaços (1 TAB). Podemos adicionar mais estruturas condicionais dentro de outras de forma aninhada. Para isso, imagine o mesmo problema demonstrado acima, porém após avaliar alunos com média acima de 5 devemos entender se estes possuem média também maior ou igual a 7, em caso positivo eles serão aprovados, para notas menores do que 7 e maiores do que 5 o aluno deverá realizar outra avaliação. O diagrama para essa situação fica da seguinte forma:\n",
    "\n",
    "![aluno2](imagens/algoritmo2.png)\n",
    "\n",
    "Em python:"
   ]
  },
  {
   "cell_type": "code",
   "execution_count": 133,
   "id": "efaa83b6",
   "metadata": {},
   "outputs": [
    {
     "name": "stdout",
     "output_type": "stream",
     "text": [
      "Fazer outra avaliação!\n"
     ]
    }
   ],
   "source": [
    "media = 6.8\n",
    "\n",
    "if media >= 5:\n",
    "    if media >= 7:\n",
    "        print('Aluno Aprovado!')\n",
    "    else:\n",
    "        print('Fazer outra avaliação!')\n",
    "else:\n",
    "    print('Aluno Reprovado')"
   ]
  },
  {
   "cell_type": "code",
   "execution_count": 134,
   "id": "6ef31c18",
   "metadata": {},
   "outputs": [
    {
     "name": "stdout",
     "output_type": "stream",
     "text": [
      "Aluno Aprovado!\n"
     ]
    }
   ],
   "source": [
    "media = 9\n",
    "\n",
    "if media >= 5:\n",
    "    if media >= 7:\n",
    "        print('Aluno Aprovado!')\n",
    "    else:\n",
    "        print('Fazer outra avaliação!')\n",
    "else:\n",
    "    print('Aluno Reprovado')"
   ]
  },
  {
   "cell_type": "code",
   "execution_count": 135,
   "id": "2f864fb8",
   "metadata": {},
   "outputs": [
    {
     "name": "stdout",
     "output_type": "stream",
     "text": [
      "Aluno Reprovado\n"
     ]
    }
   ],
   "source": [
    "media = 4\n",
    "\n",
    "if media >= 5:\n",
    "    if media >= 7:\n",
    "        print('Aluno Aprovado!')\n",
    "    else:\n",
    "        print('Fazer outra avaliação!')\n",
    "else:\n",
    "    print('Aluno Reprovado')"
   ]
  },
  {
   "cell_type": "markdown",
   "id": "c46d4337",
   "metadata": {},
   "source": [
    "Porém existem casos que não são facilmente descritos por condições binárias sendo necessário um cojunto maior de condições a serem avaliadas. Para isso utilizamos a sintaxe ```elif``` que singnifica ``` else if ``` ou seja, quando a condição anterior for avaliada como ```False``` o código deverá avaliar mais uma condição antes da saída do algoritmo.\n",
    "\n",
    "A avaliação de velocidade de uma música pode receber alguns nomes, em casos de músicas com bpm (batida por minuto) maior ou igual a 40 usa-se o termo 'Largo', para músicas com bpm maior do que 60 utiliza-se 'Adagio', para músicas com bpm maior ou igual a 140 e menor ou igual a 200 utiliza-se 'Presto'. Como esse algoritmo avaliaria 4 músicas com bpms, 41, 75, 112 e 189?"
   ]
  },
  {
   "cell_type": "code",
   "execution_count": 136,
   "id": "7307955f",
   "metadata": {},
   "outputs": [
    {
     "name": "stdout",
     "output_type": "stream",
     "text": [
      "Largo\n"
     ]
    }
   ],
   "source": [
    "bpm = 41\n",
    "\n",
    "if bpm >= 40 and bpm <= 60:\n",
    "    print('Largo')\n",
    "elif bpm > 60 and bpm <= 80:\n",
    "    print('Adagio')\n",
    "elif bpm >= 140 and bpm <= 200:\n",
    "    print('Presto')\n",
    "else:\n",
    "    print('BPM não determinado!')"
   ]
  },
  {
   "cell_type": "markdown",
   "id": "1163ba05",
   "metadata": {},
   "source": [
    "# Estrutura de Dados\n",
    "___\n",
    "\n",
    "Estruturas de dados são uma forma de organizar e armazenar dados para que possam ser acessados e trabalhados de forma eficiente. Elas definem a relação entre os dados e as operações que podem ser executadas neles. Existem vários tipos de estruturas de dados definidas que tornam mais fácil para os cientistas de dados se concentrarem na solução de problemas maiores, em vez de se perderem nos detalhes da descrição e acesso aos dados.\n",
    "\n",
    "Em python existem as seguintes estruturas de dados: listas, tuplas, dicionários, coleções (sets). As mais utilizadas no dia-a-dia de um cientista de dados são as listas, tuplas, dicionários e são nelas que esta matéria irá focar."
   ]
  },
  {
   "cell_type": "markdown",
   "id": "c95313ed",
   "metadata": {},
   "source": [
    "## Listas\n",
    "___\n",
    "\n",
    "A lista é, provavelmente, a estrutura de dados mais utilizada e mais básica em python. Ela é uma coleção ordenada, mutável e iterável também podendo ser heterogênea, ou seja, receber diversos tipos de dados. Ela tem vários métodos (funcionalidades do objeto lista) que podem auxiliar na organização e manipulação de dados. Alguns exemplos de lista:"
   ]
  },
  {
   "cell_type": "code",
   "execution_count": 137,
   "id": "ee2eae8e",
   "metadata": {},
   "outputs": [],
   "source": [
    "lista_de_inteiros = [1,2,3,4,5] ## lista de integers\n",
    "lista_heterogenea = ['nasser',1.71,100, True]\n",
    "lista_de_lista = [[1,2,3,4],[5,6,7,8]]"
   ]
  },
  {
   "cell_type": "markdown",
   "id": "93bfe7c8",
   "metadata": {},
   "source": [
    "Podemos encontrar o tamanho de uma lista utilizando a função ```len()```"
   ]
  },
  {
   "cell_type": "code",
   "execution_count": 138,
   "id": "f88ede92",
   "metadata": {},
   "outputs": [
    {
     "name": "stdout",
     "output_type": "stream",
     "text": [
      "5\n",
      "4\n",
      "2\n"
     ]
    }
   ],
   "source": [
    "print(len(lista_de_inteiros))\n",
    "print(len(lista_heterogenea))\n",
    "print(len(lista_de_lista))"
   ]
  },
  {
   "cell_type": "markdown",
   "id": "a1d825c9",
   "metadata": {},
   "source": [
    "Também é possivel criar listas vazias!"
   ]
  },
  {
   "cell_type": "code",
   "execution_count": 139,
   "id": "9d931595",
   "metadata": {},
   "outputs": [
    {
     "data": {
      "text/plain": [
       "[]"
      ]
     },
     "execution_count": 139,
     "metadata": {},
     "output_type": "execute_result"
    }
   ],
   "source": [
    "cidades_que_visitei = []\n",
    "cidades_que_visitei"
   ]
  },
  {
   "cell_type": "code",
   "execution_count": 140,
   "id": "bec0d11b",
   "metadata": {},
   "outputs": [
    {
     "data": {
      "text/plain": [
       "['Brasília', 'Cairo', 'Tel-Aviv', 'Paris', 'Jerusalem', 'Eilat']"
      ]
     },
     "execution_count": 140,
     "metadata": {},
     "output_type": "execute_result"
    }
   ],
   "source": [
    "cidades_que_visitei = ['Brasília','Cairo','Tel-Aviv','Paris','Jerusalem','Eilat']\n",
    "cidades_que_visitei"
   ]
  },
  {
   "cell_type": "markdown",
   "id": "ab13d7b0",
   "metadata": {},
   "source": [
    "Podemos acessar dados de uma lista utilizando a localização do dado a ser recuperado, iniciando a conta por ```zero```!\n",
    "\n",
    "![lista](imagens/lista.png)\n",
    "\n",
    "Ou seja, o primeiro valor tem o índice ```0 (zero)``` e os próximos seguem normalmente a contagem."
   ]
  },
  {
   "cell_type": "code",
   "execution_count": 141,
   "id": "2e25c2fc",
   "metadata": {},
   "outputs": [
    {
     "data": {
      "text/plain": [
       "'Brasília'"
      ]
     },
     "execution_count": 141,
     "metadata": {},
     "output_type": "execute_result"
    }
   ],
   "source": [
    "## acessando o primeiro valor\n",
    "\n",
    "cidades_que_visitei[0]"
   ]
  },
  {
   "cell_type": "code",
   "execution_count": 142,
   "id": "7a4964a6",
   "metadata": {},
   "outputs": [
    {
     "data": {
      "text/plain": [
       "'Cairo'"
      ]
     },
     "execution_count": 142,
     "metadata": {},
     "output_type": "execute_result"
    }
   ],
   "source": [
    "## acessando o segundo valor\n",
    "\n",
    "cidades_que_visitei[1]"
   ]
  },
  {
   "cell_type": "code",
   "execution_count": 143,
   "id": "ff007bc1",
   "metadata": {},
   "outputs": [
    {
     "data": {
      "text/plain": [
       "'Paris'"
      ]
     },
     "execution_count": 143,
     "metadata": {},
     "output_type": "execute_result"
    }
   ],
   "source": [
    "## acessando o quarto valor\n",
    "\n",
    "cidades_que_visitei[3]"
   ]
  },
  {
   "cell_type": "markdown",
   "id": "0819d306",
   "metadata": {},
   "source": [
    "É possível reatribuir o valor em qualquer posição de uma lista, para isso basta selecionar o índica da lista que deseja alterar e atribuir um novo valor a ela."
   ]
  },
  {
   "cell_type": "code",
   "execution_count": 144,
   "id": "85a420ea",
   "metadata": {},
   "outputs": [
    {
     "data": {
      "text/plain": [
       "'Jerusalem'"
      ]
     },
     "execution_count": 144,
     "metadata": {},
     "output_type": "execute_result"
    }
   ],
   "source": [
    "cidades_que_visitei[4]"
   ]
  },
  {
   "cell_type": "code",
   "execution_count": 145,
   "id": "cef68211",
   "metadata": {},
   "outputs": [],
   "source": [
    "cidades_que_visitei[4] = 'Jerusalém'"
   ]
  },
  {
   "cell_type": "code",
   "execution_count": 146,
   "id": "348d4bed",
   "metadata": {},
   "outputs": [
    {
     "data": {
      "text/plain": [
       "'Jerusalém'"
      ]
     },
     "execution_count": 146,
     "metadata": {},
     "output_type": "execute_result"
    }
   ],
   "source": [
    "cidades_que_visitei[4]"
   ]
  },
  {
   "cell_type": "markdown",
   "id": "440983cd",
   "metadata": {},
   "source": [
    "Uma forma simples e bastante poderosa de selecionar valores dentro de uma lista é utilizando a técnica de fatiamento. Ela permite que a seleção de valores dentro de uma janela com início e fim, para isso basta utilizar ```:``` ."
   ]
  },
  {
   "cell_type": "code",
   "execution_count": 147,
   "id": "155db5e7",
   "metadata": {},
   "outputs": [],
   "source": [
    "lista_20 = [1,10,20,30,40,50,60,70,80,90,100,110,120,130,140,150,160,170,180,190]"
   ]
  },
  {
   "cell_type": "code",
   "execution_count": 148,
   "id": "d3fe07bc",
   "metadata": {},
   "outputs": [
    {
     "data": {
      "text/plain": [
       "[1, 10, 20]"
      ]
     },
     "execution_count": 148,
     "metadata": {},
     "output_type": "execute_result"
    }
   ],
   "source": [
    "## usando fatiamento\n",
    "\n",
    "primeiros_3 = lista_20[:3]\n",
    "primeiros_3"
   ]
  },
  {
   "cell_type": "code",
   "execution_count": 149,
   "id": "832f0102",
   "metadata": {},
   "outputs": [
    {
     "data": {
      "text/plain": [
       "[1, 10, 20, 30, 40]"
      ]
     },
     "execution_count": 149,
     "metadata": {},
     "output_type": "execute_result"
    }
   ],
   "source": [
    "lista_20[:5]"
   ]
  },
  {
   "cell_type": "code",
   "execution_count": 150,
   "id": "0598c395",
   "metadata": {},
   "outputs": [
    {
     "data": {
      "text/plain": [
       "True"
      ]
     },
     "execution_count": 150,
     "metadata": {},
     "output_type": "execute_result"
    }
   ],
   "source": [
    "lista_20[:5] == lista_20[0:5]"
   ]
  },
  {
   "cell_type": "markdown",
   "id": "6e47f2fd",
   "metadata": {},
   "source": [
    "Veja que utilizar o índice zero ou deixar o lado esquerdo do sinal de dois-pontos traz o mesmo resultado."
   ]
  },
  {
   "cell_type": "code",
   "execution_count": 151,
   "id": "5fee7fdc",
   "metadata": {},
   "outputs": [
    {
     "data": {
      "text/plain": [
       "[1,\n",
       " 10,\n",
       " 20,\n",
       " 30,\n",
       " 40,\n",
       " 50,\n",
       " 60,\n",
       " 70,\n",
       " 80,\n",
       " 90,\n",
       " 100,\n",
       " 110,\n",
       " 120,\n",
       " 130,\n",
       " 140,\n",
       " 150,\n",
       " 160,\n",
       " 170,\n",
       " 180,\n",
       " 190]"
      ]
     },
     "execution_count": 151,
     "metadata": {},
     "output_type": "execute_result"
    }
   ],
   "source": [
    "lista_20[:]"
   ]
  },
  {
   "cell_type": "code",
   "execution_count": 152,
   "id": "8efd3463",
   "metadata": {},
   "outputs": [
    {
     "data": {
      "text/plain": [
       "[30, 40]"
      ]
     },
     "execution_count": 152,
     "metadata": {},
     "output_type": "execute_result"
    }
   ],
   "source": [
    "lista_20[3:5]"
   ]
  },
  {
   "cell_type": "markdown",
   "id": "ac9ee571",
   "metadata": {},
   "source": [
    "Perceba que o indice no lado esquerdo o sinal de dois-pontos é inclusivo e do lado direito é exclusivo (ou seja, não retorna o valor). Também é possível selecionar os valores começando a contagem do final da lista porém, nessa situação, a contagem começa com 1 e é negativa."
   ]
  },
  {
   "cell_type": "code",
   "execution_count": 153,
   "id": "1709aeb1",
   "metadata": {},
   "outputs": [
    {
     "data": {
      "text/plain": [
       "190"
      ]
     },
     "execution_count": 153,
     "metadata": {},
     "output_type": "execute_result"
    }
   ],
   "source": [
    "lista_20[-1]"
   ]
  },
  {
   "cell_type": "code",
   "execution_count": 154,
   "id": "5c6d2d76",
   "metadata": {},
   "outputs": [
    {
     "data": {
      "text/plain": [
       "[150, 160, 170]"
      ]
     },
     "execution_count": 154,
     "metadata": {},
     "output_type": "execute_result"
    }
   ],
   "source": [
    "lista_20[-5:-2]"
   ]
  },
  {
   "cell_type": "markdown",
   "id": "7778e4f3",
   "metadata": {},
   "source": [
    "Listas podem ser heterogeneas, ou seja, podemos colocar outras listas dentro dela, outras estruturas de dados e até objetos mais complexos."
   ]
  },
  {
   "cell_type": "code",
   "execution_count": 155,
   "id": "ef35c25c",
   "metadata": {},
   "outputs": [],
   "source": [
    "paises_que_visitei = ['Brasil',\n",
    "                      {'Jerusalem':5,'Tel-Aviv':2,'Eilat':1},\n",
    "                      ('França','Paris')]"
   ]
  },
  {
   "cell_type": "code",
   "execution_count": 156,
   "id": "7d3fcdfc",
   "metadata": {},
   "outputs": [
    {
     "data": {
      "text/plain": [
       "3"
      ]
     },
     "execution_count": 156,
     "metadata": {},
     "output_type": "execute_result"
    }
   ],
   "source": [
    "len(paises_que_visitei)"
   ]
  },
  {
   "cell_type": "code",
   "execution_count": 157,
   "id": "9528b566",
   "metadata": {},
   "outputs": [
    {
     "data": {
      "text/plain": [
       "str"
      ]
     },
     "execution_count": 157,
     "metadata": {},
     "output_type": "execute_result"
    }
   ],
   "source": [
    "type(paises_que_visitei[0])"
   ]
  },
  {
   "cell_type": "code",
   "execution_count": 158,
   "id": "e695c5d0",
   "metadata": {},
   "outputs": [
    {
     "data": {
      "text/plain": [
       "dict"
      ]
     },
     "execution_count": 158,
     "metadata": {},
     "output_type": "execute_result"
    }
   ],
   "source": [
    "type(paises_que_visitei[1])"
   ]
  },
  {
   "cell_type": "code",
   "execution_count": 159,
   "id": "3f4db411",
   "metadata": {},
   "outputs": [
    {
     "data": {
      "text/plain": [
       "tuple"
      ]
     },
     "execution_count": 159,
     "metadata": {},
     "output_type": "execute_result"
    }
   ],
   "source": [
    "type(paises_que_visitei[2])"
   ]
  },
  {
   "cell_type": "markdown",
   "id": "510748fc",
   "metadata": {},
   "source": [
    "### Métodos de Listas\n",
    "\n",
    "Métodos são pequenos funcionalidades de um objeto que podemos utilizar para manipular os dados desse objeto. Todo objeto igual, independente do seu conteúdo, possui os mesmos métodos. Os métodos de um objeto podem ser acessados colocar um ```.``` ao final do variável e escrevendo seu nome.\n",
    "\n",
    "Os métodos de listas mais utilizados são os seguintes:\n",
    "\n",
    "![](imagens/lista3.png)"
   ]
  },
  {
   "cell_type": "code",
   "execution_count": 160,
   "id": "79ad72a3",
   "metadata": {},
   "outputs": [
    {
     "data": {
      "text/plain": [
       "['Brasília', 'Cairo', 'Tel-Aviv', 'Paris', 'Jerusalém', 'Eilat']"
      ]
     },
     "execution_count": 160,
     "metadata": {},
     "output_type": "execute_result"
    }
   ],
   "source": [
    "cidades_que_visitei"
   ]
  },
  {
   "cell_type": "code",
   "execution_count": 161,
   "id": "75147636",
   "metadata": {},
   "outputs": [],
   "source": [
    "## adicionando a cidade Araxá ao final da lista\n",
    "\n",
    "cidades_que_visitei.append('Araxá')"
   ]
  },
  {
   "cell_type": "code",
   "execution_count": 162,
   "id": "fd393e29",
   "metadata": {},
   "outputs": [
    {
     "data": {
      "text/plain": [
       "1"
      ]
     },
     "execution_count": 162,
     "metadata": {},
     "output_type": "execute_result"
    }
   ],
   "source": [
    "## contando quantas vezes a palavra 'Eilat' aparece na lista\n",
    "\n",
    "cidades_que_visitei.count('Eilat')"
   ]
  },
  {
   "cell_type": "code",
   "execution_count": 163,
   "id": "bae156ed",
   "metadata": {},
   "outputs": [
    {
     "data": {
      "text/plain": [
       "3"
      ]
     },
     "execution_count": 163,
     "metadata": {},
     "output_type": "execute_result"
    }
   ],
   "source": [
    "## encontrando o índice da palavra 'Paris'\n",
    "\n",
    "cidades_que_visitei.index('Paris')"
   ]
  },
  {
   "cell_type": "code",
   "execution_count": 164,
   "id": "74bb1b17",
   "metadata": {},
   "outputs": [
    {
     "data": {
      "text/plain": [
       "['Araxá', 'Eilat', 'Jerusalém', 'Paris', 'Tel-Aviv', 'Cairo', 'Brasília']"
      ]
     },
     "execution_count": 164,
     "metadata": {},
     "output_type": "execute_result"
    }
   ],
   "source": [
    "## alterando a ordem da lista (invertendo)\n",
    "\n",
    "cidades_que_visitei.reverse()\n",
    "cidades_que_visitei"
   ]
  },
  {
   "cell_type": "code",
   "execution_count": 165,
   "id": "df2629f2",
   "metadata": {},
   "outputs": [
    {
     "data": {
      "text/plain": [
       "['Araxá', 'Brasília', 'Cairo', 'Eilat', 'Jerusalém', 'Paris', 'Tel-Aviv']"
      ]
     },
     "execution_count": 165,
     "metadata": {},
     "output_type": "execute_result"
    }
   ],
   "source": [
    "## organizando a lista\n",
    "\n",
    "cidades_que_visitei.sort()\n",
    "cidades_que_visitei"
   ]
  },
  {
   "cell_type": "code",
   "execution_count": 166,
   "id": "f7bbb754",
   "metadata": {},
   "outputs": [
    {
     "data": {
      "text/plain": [
       "['Araxá', 'Brasília', 'Eilat', 'Jerusalém', 'Paris', 'Tel-Aviv']"
      ]
     },
     "execution_count": 166,
     "metadata": {},
     "output_type": "execute_result"
    }
   ],
   "source": [
    "## extraindo um valor da lista\n",
    "\n",
    "cidades_que_visitei.pop(2)\n",
    "cidades_que_visitei"
   ]
  },
  {
   "cell_type": "code",
   "execution_count": 167,
   "id": "bd371feb",
   "metadata": {},
   "outputs": [
    {
     "data": {
      "text/plain": [
       "['Araxá', 'Eilat', 'Jerusalém', 'Paris', 'Tel-Aviv']"
      ]
     },
     "execution_count": 167,
     "metadata": {},
     "output_type": "execute_result"
    }
   ],
   "source": [
    "## removendo um valor da lista\n",
    "\n",
    "cidades_que_visitei.remove('Brasília')\n",
    "cidades_que_visitei"
   ]
  },
  {
   "cell_type": "markdown",
   "id": "4b09e2a7",
   "metadata": {},
   "source": [
    "Imagine que você possui a lista abaixo. Ela possui valores inteiros, porém, existe um impostor no meio dela, a string '88', encontre o índice dessa string e a substitua pelo valor inteiro 88."
   ]
  },
  {
   "cell_type": "code",
   "execution_count": 168,
   "id": "08d56619",
   "metadata": {},
   "outputs": [],
   "source": [
    "lista_exercicio = [125,175,785,4,89,25,41,58,56,2,45,4,5,13,65,469,8,8974,654,65,564,2547,87,987,6454,516,54,654,98,7,77,'88',54,7,8,54,5,1,4,7,8,25,4,5,7,8,8,8,5,6,6,6,3,2,5,4,5]"
   ]
  },
  {
   "cell_type": "markdown",
   "id": "81b97dd1",
   "metadata": {},
   "source": [
    "## Tuplas\n",
    "___\n",
    "\n",
    "As tuplas são como listas porém imutáveis, ou seja, não podemos alterar nenhum valor depois que ela for designada. Normalmente é utilizada para guardar informações que em momento algum podem mudar (endereço, cpf, id de usuário). Podemos usar parênteses para definir uma tupla ou a função ```tuple()```."
   ]
  },
  {
   "cell_type": "code",
   "execution_count": 169,
   "id": "01963478",
   "metadata": {},
   "outputs": [
    {
     "data": {
      "text/plain": [
       "('ALZR11', 'BBF011', 'BLMG11', 'BLCP11', 'BRCO11')"
      ]
     },
     "execution_count": 169,
     "metadata": {},
     "output_type": "execute_result"
    }
   ],
   "source": [
    "fundo_imob = ('ALZR11','BBF011','BLMG11','BLCP11','BRCO11')\n",
    "fundo_imob"
   ]
  },
  {
   "cell_type": "code",
   "execution_count": 170,
   "id": "48b6dad4",
   "metadata": {},
   "outputs": [
    {
     "name": "stdout",
     "output_type": "stream",
     "text": [
      "ALZR11\n",
      "BBF011\n",
      "BLMG11\n"
     ]
    }
   ],
   "source": [
    "## as tuplas são indexadas da mesma forma que as listas\n",
    "\n",
    "print(fundo_imob[0])\n",
    "print(fundo_imob[1])\n",
    "print(fundo_imob[2])"
   ]
  },
  {
   "cell_type": "code",
   "execution_count": 171,
   "id": "ce562c00",
   "metadata": {},
   "outputs": [
    {
     "ename": "TypeError",
     "evalue": "'tuple' object does not support item assignment",
     "output_type": "error",
     "traceback": [
      "\u001b[0;31m---------------------------------------------------------------------------\u001b[0m",
      "\u001b[0;31mTypeError\u001b[0m                                 Traceback (most recent call last)",
      "\u001b[0;32m/tmp/ipykernel_34760/150403952.py\u001b[0m in \u001b[0;36m<module>\u001b[0;34m\u001b[0m\n\u001b[1;32m      1\u001b[0m \u001b[0;31m## tuplas não suportam alteração de valores\u001b[0m\u001b[0;34m\u001b[0m\u001b[0;34m\u001b[0m\u001b[0;34m\u001b[0m\u001b[0m\n\u001b[1;32m      2\u001b[0m \u001b[0;34m\u001b[0m\u001b[0m\n\u001b[0;32m----> 3\u001b[0;31m \u001b[0mfundo_imob\u001b[0m\u001b[0;34m[\u001b[0m\u001b[0;36m0\u001b[0m\u001b[0;34m]\u001b[0m \u001b[0;34m=\u001b[0m \u001b[0;34m'BACON11'\u001b[0m\u001b[0;34m\u001b[0m\u001b[0;34m\u001b[0m\u001b[0m\n\u001b[0m",
      "\u001b[0;31mTypeError\u001b[0m: 'tuple' object does not support item assignment"
     ]
    }
   ],
   "source": [
    "## tuplas não suportam alteração de valores\n",
    "\n",
    "fundo_imob[0] = 'BACON11'"
   ]
  },
  {
   "cell_type": "code",
   "execution_count": 172,
   "id": "7ad6467c",
   "metadata": {},
   "outputs": [
    {
     "data": {
      "text/plain": [
       "('ALZR11', 11, {'BLMG11': 97.3}, 15.2, ['BRCO11', 16])"
      ]
     },
     "execution_count": 172,
     "metadata": {},
     "output_type": "execute_result"
    }
   ],
   "source": [
    "## tuplas também podem ser heterogeneas\n",
    "\n",
    "fundo_imob = tuple(['ALZR11',11,{'BLMG11':97.30},15.2,['BRCO11',16]])\n",
    "fundo_imob"
   ]
  },
  {
   "cell_type": "code",
   "execution_count": 173,
   "id": "195af324",
   "metadata": {},
   "outputs": [],
   "source": [
    "## alteração de um valor de um objeto mutável dentro da tupla\n",
    "\n",
    "fundo_imob[4][1] = 15"
   ]
  },
  {
   "cell_type": "code",
   "execution_count": 174,
   "id": "9df22ead",
   "metadata": {},
   "outputs": [
    {
     "data": {
      "text/plain": [
       "('ALZR11', 11, {'BLMG11': 97.3}, 15.2, ['BRCO11', 15])"
      ]
     },
     "execution_count": 174,
     "metadata": {},
     "output_type": "execute_result"
    }
   ],
   "source": [
    "fundo_imob"
   ]
  },
  {
   "cell_type": "markdown",
   "id": "50ba7ef0",
   "metadata": {},
   "source": [
    "### Métodos de Tuplas\n",
    "\n",
    "Devido a sua característica imutável, tuplas possuem poucos métodos."
   ]
  },
  {
   "cell_type": "code",
   "execution_count": 175,
   "id": "ad43f70b",
   "metadata": {},
   "outputs": [
    {
     "data": {
      "text/plain": [
       "1"
      ]
     },
     "execution_count": 175,
     "metadata": {},
     "output_type": "execute_result"
    }
   ],
   "source": [
    "## contando quantos valores aparecem\n",
    "\n",
    "fundo_imob.count(['BRCO11',15])"
   ]
  },
  {
   "cell_type": "code",
   "execution_count": 176,
   "id": "dd18f684",
   "metadata": {},
   "outputs": [
    {
     "data": {
      "text/plain": [
       "1"
      ]
     },
     "execution_count": 176,
     "metadata": {},
     "output_type": "execute_result"
    }
   ],
   "source": [
    "fundo_imob.count(11)"
   ]
  },
  {
   "cell_type": "code",
   "execution_count": 177,
   "id": "d1e91dc7",
   "metadata": {},
   "outputs": [
    {
     "data": {
      "text/plain": [
       "3"
      ]
     },
     "execution_count": 177,
     "metadata": {},
     "output_type": "execute_result"
    }
   ],
   "source": [
    "## encontrando o índice do valor 15.2\n",
    "\n",
    "fundo_imob.index(15.2)"
   ]
  },
  {
   "cell_type": "markdown",
   "id": "0399cdf1",
   "metadata": {},
   "source": [
    "## Dicionários\n",
    "___\n",
    "\n",
    "Os dicionários são outra estrutura de dados em python que também são conhecidas como “memória associativas” ou “vetores associativos”, diferentemente das listas e tuplas, os dicionários são indexados utilizando chaves (keys) e não números. Construímos um dicionário utilizando chaves ```{}``` ou a função ```dict()```. Os dicionários são mutáveis e iteráveis."
   ]
  },
  {
   "cell_type": "code",
   "execution_count": 178,
   "id": "11c5f3f1",
   "metadata": {},
   "outputs": [
    {
     "data": {
      "text/plain": [
       "dict"
      ]
     },
     "execution_count": 178,
     "metadata": {},
     "output_type": "execute_result"
    }
   ],
   "source": [
    "escola = {}\n",
    "type(escola)"
   ]
  },
  {
   "cell_type": "code",
   "execution_count": 179,
   "id": "549dd7b2",
   "metadata": {},
   "outputs": [
    {
     "data": {
      "text/plain": [
       "{'alunos': ['maria', 'joão', 'gilberto', 'gabriela', 'marcelo']}"
      ]
     },
     "execution_count": 179,
     "metadata": {},
     "output_type": "execute_result"
    }
   ],
   "source": [
    "escola['alunos'] = ['maria','joão','gilberto','gabriela','marcelo']\n",
    "escola"
   ]
  },
  {
   "cell_type": "markdown",
   "id": "0d15d0ed",
   "metadata": {},
   "source": [
    "Perceba que para adicionar um par ```chave:valor``` basta utilizar uma sintaxe de indexação com atribuição."
   ]
  },
  {
   "cell_type": "code",
   "execution_count": 180,
   "id": "90646ac3",
   "metadata": {},
   "outputs": [],
   "source": [
    "escola['professores'] = ['alberto','matheus','marina']"
   ]
  },
  {
   "cell_type": "code",
   "execution_count": 181,
   "id": "5e22c1da",
   "metadata": {},
   "outputs": [
    {
     "data": {
      "text/plain": [
       "{'alunos': ['maria', 'joão', 'gilberto', 'gabriela', 'marcelo'],\n",
       " 'professores': ['alberto', 'matheus', 'marina']}"
      ]
     },
     "execution_count": 181,
     "metadata": {},
     "output_type": "execute_result"
    }
   ],
   "source": [
    "escola"
   ]
  },
  {
   "cell_type": "markdown",
   "id": "fb9aa421",
   "metadata": {},
   "source": [
    "Podemos também colocar dicionários dentro de dicionários. Perceba que todo objeto designado como valor ainda mantém seus métodos originais. Então para modifica-lo basta referenciar a chave e utilizar o método deseja do objeto em valor."
   ]
  },
  {
   "cell_type": "code",
   "execution_count": 182,
   "id": "9e3c90ff",
   "metadata": {},
   "outputs": [],
   "source": [
    "escola['materias'] = {'alberto':'inglês','matheus':'inglês','marina':'português'}"
   ]
  },
  {
   "cell_type": "code",
   "execution_count": 183,
   "id": "721efe54",
   "metadata": {},
   "outputs": [
    {
     "data": {
      "text/plain": [
       "{'alunos': ['maria', 'joão', 'gilberto', 'gabriela', 'marcelo'],\n",
       " 'professores': ['alberto', 'matheus', 'marina'],\n",
       " 'materias': {'alberto': 'inglês', 'matheus': 'inglês', 'marina': 'português'}}"
      ]
     },
     "execution_count": 183,
     "metadata": {},
     "output_type": "execute_result"
    }
   ],
   "source": [
    "escola"
   ]
  },
  {
   "cell_type": "code",
   "execution_count": 184,
   "id": "e70a5159",
   "metadata": {},
   "outputs": [],
   "source": [
    "escola['dias_de_aula'] = 365"
   ]
  },
  {
   "cell_type": "code",
   "execution_count": 185,
   "id": "355cb4a6",
   "metadata": {},
   "outputs": [
    {
     "data": {
      "text/plain": [
       "{'alunos': ['maria', 'joão', 'gilberto', 'gabriela', 'marcelo'],\n",
       " 'professores': ['alberto', 'matheus', 'marina'],\n",
       " 'materias': {'alberto': 'inglês', 'matheus': 'inglês', 'marina': 'português'},\n",
       " 'dias_de_aula': 365}"
      ]
     },
     "execution_count": 185,
     "metadata": {},
     "output_type": "execute_result"
    }
   ],
   "source": [
    "escola"
   ]
  },
  {
   "cell_type": "code",
   "execution_count": 186,
   "id": "84da9063",
   "metadata": {},
   "outputs": [],
   "source": [
    "escola['dias_de_aula'] = 216"
   ]
  },
  {
   "cell_type": "code",
   "execution_count": 187,
   "id": "3c4f5ccf",
   "metadata": {},
   "outputs": [
    {
     "data": {
      "text/plain": [
       "{'alunos': ['maria', 'joão', 'gilberto', 'gabriela', 'marcelo'],\n",
       " 'professores': ['alberto', 'matheus', 'marina'],\n",
       " 'materias': {'alberto': 'inglês', 'matheus': 'inglês', 'marina': 'português'},\n",
       " 'dias_de_aula': 216}"
      ]
     },
     "execution_count": 187,
     "metadata": {},
     "output_type": "execute_result"
    }
   ],
   "source": [
    "escola"
   ]
  },
  {
   "cell_type": "markdown",
   "id": "3e24f6fe",
   "metadata": {},
   "source": [
    "### Métodos de Dicionários"
   ]
  },
  {
   "cell_type": "code",
   "execution_count": 188,
   "id": "76205cb1",
   "metadata": {},
   "outputs": [
    {
     "data": {
      "text/plain": [
       "dict_keys(['alunos', 'professores', 'materias', 'dias_de_aula'])"
      ]
     },
     "execution_count": 188,
     "metadata": {},
     "output_type": "execute_result"
    }
   ],
   "source": [
    "escola.keys()"
   ]
  },
  {
   "cell_type": "code",
   "execution_count": 189,
   "id": "22d32428",
   "metadata": {},
   "outputs": [
    {
     "data": {
      "text/plain": [
       "dict_values([['maria', 'joão', 'gilberto', 'gabriela', 'marcelo'], ['alberto', 'matheus', 'marina'], {'alberto': 'inglês', 'matheus': 'inglês', 'marina': 'português'}, 216])"
      ]
     },
     "execution_count": 189,
     "metadata": {},
     "output_type": "execute_result"
    }
   ],
   "source": [
    "escola.values()"
   ]
  },
  {
   "cell_type": "code",
   "execution_count": 190,
   "id": "2cb9e8a2",
   "metadata": {},
   "outputs": [
    {
     "data": {
      "text/plain": [
       "dict_items([('alunos', ['maria', 'joão', 'gilberto', 'gabriela', 'marcelo']), ('professores', ['alberto', 'matheus', 'marina']), ('materias', {'alberto': 'inglês', 'matheus': 'inglês', 'marina': 'português'}), ('dias_de_aula', 216)])"
      ]
     },
     "execution_count": 190,
     "metadata": {},
     "output_type": "execute_result"
    }
   ],
   "source": [
    "escola.items()"
   ]
  },
  {
   "cell_type": "code",
   "execution_count": 191,
   "id": "351479f5",
   "metadata": {},
   "outputs": [
    {
     "ename": "KeyError",
     "evalue": "'notas'",
     "output_type": "error",
     "traceback": [
      "\u001b[0;31m---------------------------------------------------------------------------\u001b[0m",
      "\u001b[0;31mKeyError\u001b[0m                                  Traceback (most recent call last)",
      "\u001b[0;32m/tmp/ipykernel_34760/3471787255.py\u001b[0m in \u001b[0;36m<module>\u001b[0;34m\u001b[0m\n\u001b[0;32m----> 1\u001b[0;31m \u001b[0mescola\u001b[0m\u001b[0;34m[\u001b[0m\u001b[0;34m'notas'\u001b[0m\u001b[0;34m]\u001b[0m\u001b[0;34m\u001b[0m\u001b[0;34m\u001b[0m\u001b[0m\n\u001b[0m",
      "\u001b[0;31mKeyError\u001b[0m: 'notas'"
     ]
    }
   ],
   "source": [
    "escola['notas']"
   ]
  },
  {
   "cell_type": "code",
   "execution_count": 192,
   "id": "54687ba5",
   "metadata": {},
   "outputs": [],
   "source": [
    "escola.get('notas')"
   ]
  },
  {
   "cell_type": "markdown",
   "id": "42b250f3",
   "metadata": {},
   "source": [
    "O método ```.get()``` retorna o valor associado a uma chave, porém se essa chave não existir ele não levanta nenhuma mensagem de erro como a indexação tradicional faria. Entender esse comportamento é muito importante para montar algoritmos que possam atuar sem intervenção humana."
   ]
  }
 ],
 "metadata": {
  "kernelspec": {
   "display_name": "Python 3 (ipykernel)",
   "language": "python",
   "name": "python3"
  },
  "language_info": {
   "codemirror_mode": {
    "name": "ipython",
    "version": 3
   },
   "file_extension": ".py",
   "mimetype": "text/x-python",
   "name": "python",
   "nbconvert_exporter": "python",
   "pygments_lexer": "ipython3",
   "version": "3.8.10"
  }
 },
 "nbformat": 4,
 "nbformat_minor": 5
}
